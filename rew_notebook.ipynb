{
 "cells": [
  {
   "cell_type": "markdown",
   "metadata": {},
   "source": [
    "<div style=\"border-radius: 15px; border: 3px solid indigo; padding: 15px;\">\n",
    "<b> Комментарий ревьюера</b>\n",
    "    \n",
    "Привет! Меня зовут Светлана Носова, я буду проверять твой проект. Если не против, давай общаться на «ты». Если тебе такой стиль общения не нравится, напиши об этом, будем на «вы».\n",
    "\n",
    "Сразу хочу обратить внимание на цветовую разметку:\n",
    "\n",
    "<div class=\"alert alert-success\" style=\"border-radius: 15px; box-shadow: 4px 4px 4px; border: 1px solid \">\n",
    "\n",
    "Зеленым с пометкой ✔️ отмечены отличные решения и идеи, которые можно и нужно использовать в будущем.\n",
    "</div>\n",
    "    \n",
    "<div class=\"alert alert-warning\" style=\"border-radius: 15px; box-shadow: 4px 4px 4px; border: 1px solid \">\n",
    "\n",
    "Желтым с пометкой ⚠️ отмечено то, что можно или нужно оптимизировать, в зависимости от контекста.</div>    \n",
    "    \n",
    "<div class=\"alert alert-danger\" style=\"border-radius: 15px; box-shadow: 4px 4px 4px; border: 1px solid \">\n",
    "\n",
    "Красным с пометкой ❌ обозначены пропущенные пункты задания и ошибки, которые обязательно надо будет исправить, чтобы результаты были верные.</div> \n",
    "    \n",
    "**Ответы на мои комментарии или доработки по моим рекомендациям попрошу выделить каким-нибудь цветом, кроме перечисленных.**\n",
    "Также я попрошу тебя **не менять, не передвигать и не удалять мои комментарии**, чтобы при последующей проверке мне было проще ориентироваться.\n",
    "    \n",
    "Кроме того, комментарии у меня обозначены как заголовки. Это сбивает содержание, но при последующей проверке я могу снять с них заголовок, если тебе так будет удобнее. При этом они удобны, поскольку ты сразу можешь перейти к ним.   \n",
    "        \n",
    "<hr>\n",
    "    \n",
    "<font color= 'dodgerblue'>**По проекту:**</font> похоже, что работа сделана хорошо. Структура работы у тебя грамотная, код легко читается. Однако я не могу провести полноценную проверку, т.к. указан локальный путь к файлу. Исправь, пожалуйста. Также обрати внимание на то, что многие разделы никак не прокомментированы. Это тоже следует исправить, добавив выводы под результатами, в т.ч. под графиками. \n",
    "\n",
    "\n",
    "Ниже оставлю несколько подсказок по оформлению, которые могут пригодиться в будущем.\n",
    "    \n",
    "<hr style=\"border-top: 3px solid purple; \"></hr>\n",
    "Комментарии можешь оставлять с помощью такого кода в Markdown ячейке:\n",
    "    \n",
    "    \n",
    "    <div class=\"alert alert-info\">\n",
    "    <h2> Комментарий студента</h2>\n",
    "\n",
    "    Тут текст.\n",
    "    </div>\n",
    "    \n",
    "    \n",
    "    <font color='red'> Этот код позволяет менять цвет текста. </font>     \n",
    "\n",
    "\n",
    "<font color='red'> Выглядит это так. </font> \n",
    "\n",
    "  \n",
    "   \n",
    "Если не хочешь, чтобы твои комментарии отображались в содержании как заголовки, замени **h2** на **b** или добавь `<a class=\"tocSkip\">` после фразы *Комментарий студента*.\n",
    "\n",
    "\n",
    "\n",
    "О том, как **форматировать текст** в Markdown ячейке или как добавлять ссылки, ты можешь узнать [тут](https://sqlbak.com/blog/jupyter-notebook-markdown-cheatsheet) и [вот тут](https://medium.com/analytics-vidhya/the-ultimate-markdown-guide-for-jupyter-notebook-d5e5abf728fd).\n",
    "</div>    \n"
   ]
  },
  {
   "cell_type": "markdown",
   "metadata": {},
   "source": [
    "# Исследование объявлений о продаже квартир\n",
    "\n",
    "В вашем распоряжении данные сервиса Яндекс.Недвижимость — архив объявлений о продаже квартир в Санкт-Петербурге и соседних населённых пунктов за несколько лет. Нужно научиться определять рыночную стоимость объектов недвижимости. Ваша задача — установить параметры. Это позволит построить автоматизированную систему: она отследит аномалии и мошенническую деятельность. \n",
    "\n",
    "По каждой квартире на продажу доступны два вида данных. Первые вписаны пользователем, вторые — получены автоматически на основе картографических данных. Например, расстояние до центра, аэропорта, ближайшего парка и водоёма. "
   ]
  },
  {
   "cell_type": "markdown",
   "metadata": {},
   "source": [
    "### 1. Откройте файл с данными и изучите общую информацию. "
   ]
  },
  {
   "cell_type": "code",
   "execution_count": 3,
   "metadata": {},
   "outputs": [],
   "source": [
    "#импорт нужных библиотек\n",
    "import pandas as pd\n",
    "import numpy as np\n",
    "import matplotlib.pyplot as plt\n",
    "\n",
    "#чтение датасета\n",
    "data = pd.read_csv('real_estate_data.csv', sep='\\t', decimal=',')"
   ]
  },
  {
   "cell_type": "code",
   "execution_count": 4,
   "metadata": {},
   "outputs": [
    {
     "name": "stdout",
     "output_type": "stream",
     "text": [
      "<class 'pandas.core.frame.DataFrame'>\n",
      "RangeIndex: 23699 entries, 0 to 23698\n",
      "Data columns (total 22 columns):\n",
      " #   Column                Non-Null Count  Dtype \n",
      "---  ------                --------------  ----- \n",
      " 0   total_images          23699 non-null  int64 \n",
      " 1   last_price            23699 non-null  object\n",
      " 2   total_area            23699 non-null  object\n",
      " 3   first_day_exposition  23699 non-null  object\n",
      " 4   rooms                 23699 non-null  int64 \n",
      " 5   ceiling_height        14504 non-null  object\n",
      " 6   floors_total          23613 non-null  object\n",
      " 7   living_area           21796 non-null  object\n",
      " 8   floor                 23699 non-null  int64 \n",
      " 9   is_apartment          2775 non-null   object\n",
      " 10  studio                23699 non-null  bool  \n",
      " 11  open_plan             23699 non-null  bool  \n",
      " 12  kitchen_area          21421 non-null  object\n",
      " 13  balcony               12180 non-null  object\n",
      " 14  locality_name         23650 non-null  object\n",
      " 15  airports_nearest      18157 non-null  object\n",
      " 16  cityCenters_nearest   18180 non-null  object\n",
      " 17  parks_around3000      18181 non-null  object\n",
      " 18  parks_nearest         8079 non-null   object\n",
      " 19  ponds_around3000      18181 non-null  object\n",
      " 20  ponds_nearest         9110 non-null   object\n",
      " 21  days_exposition       20518 non-null  object\n",
      "dtypes: bool(2), int64(3), object(17)\n",
      "memory usage: 3.7+ MB\n"
     ]
    }
   ],
   "source": [
    "#информация о датасете\n",
    "data.info()"
   ]
  },
  {
   "cell_type": "code",
   "execution_count": 5,
   "metadata": {},
   "outputs": [
    {
     "data": {
      "text/html": [
       "<div>\n",
       "<style scoped>\n",
       "    .dataframe tbody tr th:only-of-type {\n",
       "        vertical-align: middle;\n",
       "    }\n",
       "\n",
       "    .dataframe tbody tr th {\n",
       "        vertical-align: top;\n",
       "    }\n",
       "\n",
       "    .dataframe thead th {\n",
       "        text-align: right;\n",
       "    }\n",
       "</style>\n",
       "<table border=\"1\" class=\"dataframe\">\n",
       "  <thead>\n",
       "    <tr style=\"text-align: right;\">\n",
       "      <th></th>\n",
       "      <th>total_images</th>\n",
       "      <th>last_price</th>\n",
       "      <th>total_area</th>\n",
       "      <th>first_day_exposition</th>\n",
       "      <th>rooms</th>\n",
       "      <th>ceiling_height</th>\n",
       "      <th>floors_total</th>\n",
       "      <th>living_area</th>\n",
       "      <th>floor</th>\n",
       "      <th>is_apartment</th>\n",
       "      <th>...</th>\n",
       "      <th>kitchen_area</th>\n",
       "      <th>balcony</th>\n",
       "      <th>locality_name</th>\n",
       "      <th>airports_nearest</th>\n",
       "      <th>cityCenters_nearest</th>\n",
       "      <th>parks_around3000</th>\n",
       "      <th>parks_nearest</th>\n",
       "      <th>ponds_around3000</th>\n",
       "      <th>ponds_nearest</th>\n",
       "      <th>days_exposition</th>\n",
       "    </tr>\n",
       "  </thead>\n",
       "  <tbody>\n",
       "    <tr>\n",
       "      <th>0</th>\n",
       "      <td>20</td>\n",
       "      <td>13000000.0</td>\n",
       "      <td>108.0</td>\n",
       "      <td>2019-03-07T00:00:00</td>\n",
       "      <td>3</td>\n",
       "      <td>2.7</td>\n",
       "      <td>16.0</td>\n",
       "      <td>51.0</td>\n",
       "      <td>8</td>\n",
       "      <td>NaN</td>\n",
       "      <td>...</td>\n",
       "      <td>25.0</td>\n",
       "      <td>NaN</td>\n",
       "      <td>Санкт-Петербург</td>\n",
       "      <td>18863.0</td>\n",
       "      <td>16028.0</td>\n",
       "      <td>1.0</td>\n",
       "      <td>482.0</td>\n",
       "      <td>2.0</td>\n",
       "      <td>755.0</td>\n",
       "      <td>NaN</td>\n",
       "    </tr>\n",
       "    <tr>\n",
       "      <th>1</th>\n",
       "      <td>7</td>\n",
       "      <td>3350000.0</td>\n",
       "      <td>40.4</td>\n",
       "      <td>2018-12-04T00:00:00</td>\n",
       "      <td>1</td>\n",
       "      <td>NaN</td>\n",
       "      <td>11.0</td>\n",
       "      <td>18.6</td>\n",
       "      <td>1</td>\n",
       "      <td>NaN</td>\n",
       "      <td>...</td>\n",
       "      <td>11.0</td>\n",
       "      <td>2.0</td>\n",
       "      <td>посёлок Шушары</td>\n",
       "      <td>12817.0</td>\n",
       "      <td>18603.0</td>\n",
       "      <td>0.0</td>\n",
       "      <td>NaN</td>\n",
       "      <td>0.0</td>\n",
       "      <td>NaN</td>\n",
       "      <td>81.0</td>\n",
       "    </tr>\n",
       "    <tr>\n",
       "      <th>2</th>\n",
       "      <td>10</td>\n",
       "      <td>5196000.0</td>\n",
       "      <td>56.0</td>\n",
       "      <td>2015-08-20T00:00:00</td>\n",
       "      <td>2</td>\n",
       "      <td>NaN</td>\n",
       "      <td>5.0</td>\n",
       "      <td>34.3</td>\n",
       "      <td>4</td>\n",
       "      <td>NaN</td>\n",
       "      <td>...</td>\n",
       "      <td>8.3</td>\n",
       "      <td>0.0</td>\n",
       "      <td>Санкт-Петербург</td>\n",
       "      <td>21741.0</td>\n",
       "      <td>13933.0</td>\n",
       "      <td>1.0</td>\n",
       "      <td>90.0</td>\n",
       "      <td>2.0</td>\n",
       "      <td>574.0</td>\n",
       "      <td>558.0</td>\n",
       "    </tr>\n",
       "    <tr>\n",
       "      <th>3</th>\n",
       "      <td>0</td>\n",
       "      <td>64900000.0</td>\n",
       "      <td>159.0</td>\n",
       "      <td>2015-07-24T00:00:00</td>\n",
       "      <td>3</td>\n",
       "      <td>NaN</td>\n",
       "      <td>14.0</td>\n",
       "      <td>NaN</td>\n",
       "      <td>9</td>\n",
       "      <td>NaN</td>\n",
       "      <td>...</td>\n",
       "      <td>NaN</td>\n",
       "      <td>0.0</td>\n",
       "      <td>Санкт-Петербург</td>\n",
       "      <td>28098.0</td>\n",
       "      <td>6800.0</td>\n",
       "      <td>2.0</td>\n",
       "      <td>84.0</td>\n",
       "      <td>3.0</td>\n",
       "      <td>234.0</td>\n",
       "      <td>424.0</td>\n",
       "    </tr>\n",
       "    <tr>\n",
       "      <th>4</th>\n",
       "      <td>2</td>\n",
       "      <td>10000000.0</td>\n",
       "      <td>100.0</td>\n",
       "      <td>2018-06-19T00:00:00</td>\n",
       "      <td>2</td>\n",
       "      <td>3.03</td>\n",
       "      <td>14.0</td>\n",
       "      <td>32.0</td>\n",
       "      <td>13</td>\n",
       "      <td>NaN</td>\n",
       "      <td>...</td>\n",
       "      <td>41.0</td>\n",
       "      <td>NaN</td>\n",
       "      <td>Санкт-Петербург</td>\n",
       "      <td>31856.0</td>\n",
       "      <td>8098.0</td>\n",
       "      <td>2.0</td>\n",
       "      <td>112.0</td>\n",
       "      <td>1.0</td>\n",
       "      <td>48.0</td>\n",
       "      <td>121.0</td>\n",
       "    </tr>\n",
       "    <tr>\n",
       "      <th>5</th>\n",
       "      <td>10</td>\n",
       "      <td>2890000.0</td>\n",
       "      <td>30.4</td>\n",
       "      <td>2018-09-10T00:00:00</td>\n",
       "      <td>1</td>\n",
       "      <td>NaN</td>\n",
       "      <td>12.0</td>\n",
       "      <td>14.4</td>\n",
       "      <td>5</td>\n",
       "      <td>NaN</td>\n",
       "      <td>...</td>\n",
       "      <td>9.1</td>\n",
       "      <td>NaN</td>\n",
       "      <td>городской посёлок Янино-1</td>\n",
       "      <td>NaN</td>\n",
       "      <td>NaN</td>\n",
       "      <td>NaN</td>\n",
       "      <td>NaN</td>\n",
       "      <td>NaN</td>\n",
       "      <td>NaN</td>\n",
       "      <td>55.0</td>\n",
       "    </tr>\n",
       "    <tr>\n",
       "      <th>6</th>\n",
       "      <td>6</td>\n",
       "      <td>3700000.0</td>\n",
       "      <td>37.3</td>\n",
       "      <td>2017-11-02T00:00:00</td>\n",
       "      <td>1</td>\n",
       "      <td>NaN</td>\n",
       "      <td>26.0</td>\n",
       "      <td>10.6</td>\n",
       "      <td>6</td>\n",
       "      <td>NaN</td>\n",
       "      <td>...</td>\n",
       "      <td>14.4</td>\n",
       "      <td>1.0</td>\n",
       "      <td>посёлок Парголово</td>\n",
       "      <td>52996.0</td>\n",
       "      <td>19143.0</td>\n",
       "      <td>0.0</td>\n",
       "      <td>NaN</td>\n",
       "      <td>0.0</td>\n",
       "      <td>NaN</td>\n",
       "      <td>155.0</td>\n",
       "    </tr>\n",
       "    <tr>\n",
       "      <th>7</th>\n",
       "      <td>5</td>\n",
       "      <td>7915000.0</td>\n",
       "      <td>71.6</td>\n",
       "      <td>2019-04-18T00:00:00</td>\n",
       "      <td>2</td>\n",
       "      <td>NaN</td>\n",
       "      <td>24.0</td>\n",
       "      <td>NaN</td>\n",
       "      <td>22</td>\n",
       "      <td>NaN</td>\n",
       "      <td>...</td>\n",
       "      <td>18.9</td>\n",
       "      <td>2.0</td>\n",
       "      <td>Санкт-Петербург</td>\n",
       "      <td>23982.0</td>\n",
       "      <td>11634.0</td>\n",
       "      <td>0.0</td>\n",
       "      <td>NaN</td>\n",
       "      <td>0.0</td>\n",
       "      <td>NaN</td>\n",
       "      <td>NaN</td>\n",
       "    </tr>\n",
       "    <tr>\n",
       "      <th>8</th>\n",
       "      <td>20</td>\n",
       "      <td>2900000.0</td>\n",
       "      <td>33.16</td>\n",
       "      <td>2018-05-23T00:00:00</td>\n",
       "      <td>1</td>\n",
       "      <td>NaN</td>\n",
       "      <td>27.0</td>\n",
       "      <td>15.43</td>\n",
       "      <td>26</td>\n",
       "      <td>NaN</td>\n",
       "      <td>...</td>\n",
       "      <td>8.81</td>\n",
       "      <td>NaN</td>\n",
       "      <td>посёлок Мурино</td>\n",
       "      <td>NaN</td>\n",
       "      <td>NaN</td>\n",
       "      <td>NaN</td>\n",
       "      <td>NaN</td>\n",
       "      <td>NaN</td>\n",
       "      <td>NaN</td>\n",
       "      <td>189.00000000000003</td>\n",
       "    </tr>\n",
       "    <tr>\n",
       "      <th>9</th>\n",
       "      <td>18</td>\n",
       "      <td>5400000.0</td>\n",
       "      <td>61.0</td>\n",
       "      <td>2017-02-26T00:00:00</td>\n",
       "      <td>3</td>\n",
       "      <td>2.5</td>\n",
       "      <td>9.0</td>\n",
       "      <td>43.6</td>\n",
       "      <td>7</td>\n",
       "      <td>NaN</td>\n",
       "      <td>...</td>\n",
       "      <td>6.5</td>\n",
       "      <td>2.0</td>\n",
       "      <td>Санкт-Петербург</td>\n",
       "      <td>50898.0</td>\n",
       "      <td>15008.0</td>\n",
       "      <td>0.0</td>\n",
       "      <td>NaN</td>\n",
       "      <td>0.0</td>\n",
       "      <td>NaN</td>\n",
       "      <td>289.0</td>\n",
       "    </tr>\n",
       "  </tbody>\n",
       "</table>\n",
       "<p>10 rows × 22 columns</p>\n",
       "</div>"
      ],
      "text/plain": [
       "   total_images  last_price total_area first_day_exposition  rooms  \\\n",
       "0            20  13000000.0      108.0  2019-03-07T00:00:00      3   \n",
       "1             7   3350000.0       40.4  2018-12-04T00:00:00      1   \n",
       "2            10   5196000.0       56.0  2015-08-20T00:00:00      2   \n",
       "3             0  64900000.0      159.0  2015-07-24T00:00:00      3   \n",
       "4             2  10000000.0      100.0  2018-06-19T00:00:00      2   \n",
       "5            10   2890000.0       30.4  2018-09-10T00:00:00      1   \n",
       "6             6   3700000.0       37.3  2017-11-02T00:00:00      1   \n",
       "7             5   7915000.0       71.6  2019-04-18T00:00:00      2   \n",
       "8            20   2900000.0      33.16  2018-05-23T00:00:00      1   \n",
       "9            18   5400000.0       61.0  2017-02-26T00:00:00      3   \n",
       "\n",
       "  ceiling_height floors_total living_area  floor is_apartment  ...  \\\n",
       "0            2.7         16.0        51.0      8          NaN  ...   \n",
       "1            NaN         11.0        18.6      1          NaN  ...   \n",
       "2            NaN          5.0        34.3      4          NaN  ...   \n",
       "3            NaN         14.0         NaN      9          NaN  ...   \n",
       "4           3.03         14.0        32.0     13          NaN  ...   \n",
       "5            NaN         12.0        14.4      5          NaN  ...   \n",
       "6            NaN         26.0        10.6      6          NaN  ...   \n",
       "7            NaN         24.0         NaN     22          NaN  ...   \n",
       "8            NaN         27.0       15.43     26          NaN  ...   \n",
       "9            2.5          9.0        43.6      7          NaN  ...   \n",
       "\n",
       "   kitchen_area  balcony              locality_name airports_nearest  \\\n",
       "0          25.0      NaN            Санкт-Петербург          18863.0   \n",
       "1          11.0      2.0             посёлок Шушары          12817.0   \n",
       "2           8.3      0.0            Санкт-Петербург          21741.0   \n",
       "3           NaN      0.0            Санкт-Петербург          28098.0   \n",
       "4          41.0      NaN            Санкт-Петербург          31856.0   \n",
       "5           9.1      NaN  городской посёлок Янино-1              NaN   \n",
       "6          14.4      1.0          посёлок Парголово          52996.0   \n",
       "7          18.9      2.0            Санкт-Петербург          23982.0   \n",
       "8          8.81      NaN             посёлок Мурино              NaN   \n",
       "9           6.5      2.0            Санкт-Петербург          50898.0   \n",
       "\n",
       "  cityCenters_nearest parks_around3000 parks_nearest ponds_around3000  \\\n",
       "0             16028.0              1.0         482.0              2.0   \n",
       "1             18603.0              0.0           NaN              0.0   \n",
       "2             13933.0              1.0          90.0              2.0   \n",
       "3              6800.0              2.0          84.0              3.0   \n",
       "4              8098.0              2.0         112.0              1.0   \n",
       "5                 NaN              NaN           NaN              NaN   \n",
       "6             19143.0              0.0           NaN              0.0   \n",
       "7             11634.0              0.0           NaN              0.0   \n",
       "8                 NaN              NaN           NaN              NaN   \n",
       "9             15008.0              0.0           NaN              0.0   \n",
       "\n",
       "  ponds_nearest     days_exposition  \n",
       "0         755.0                 NaN  \n",
       "1           NaN                81.0  \n",
       "2         574.0               558.0  \n",
       "3         234.0               424.0  \n",
       "4          48.0               121.0  \n",
       "5           NaN                55.0  \n",
       "6           NaN               155.0  \n",
       "7           NaN                 NaN  \n",
       "8           NaN  189.00000000000003  \n",
       "9           NaN               289.0  \n",
       "\n",
       "[10 rows x 22 columns]"
      ]
     },
     "execution_count": 5,
     "metadata": {},
     "output_type": "execute_result"
    }
   ],
   "source": [
    "#просмотр первых 10 строк датасета\n",
    "data.head(10)"
   ]
  },
  {
   "cell_type": "code",
   "execution_count": 6,
   "metadata": {},
   "outputs": [
    {
     "data": {
      "text/plain": [
       "array([[<AxesSubplot:title={'center':'total_images'}>,\n",
       "        <AxesSubplot:title={'center':'rooms'}>],\n",
       "       [<AxesSubplot:title={'center':'floor'}>, <AxesSubplot:>]],\n",
       "      dtype=object)"
      ]
     },
     "execution_count": 6,
     "metadata": {},
     "output_type": "execute_result"
    },
    {
     "data": {
      "image/png": "[encoded data removed]",
      "text/plain": [
       "<Figure size 1440x1440 with 4 Axes>"
      ]
     },
     "metadata": {
      "needs_background": "light"
     },
     "output_type": "display_data"
    }
   ],
   "source": [
    "data.hist(figsize=(20, 20))"
   ]
  },
  {
   "cell_type": "markdown",
   "metadata": {},
   "source": [
    "### Промежуточный вывод\n",
    "В таблице много пропущенных значений, а так же много столбцов, для которых необходимо осуществить изменение типов данных."
   ]
  },
  {
   "cell_type": "markdown",
   "metadata": {},
   "source": [
    "### 2. Предобработка данных"
   ]
  },
  {
   "cell_type": "code",
   "execution_count": 7,
   "metadata": {},
   "outputs": [
    {
     "data": {
      "text/plain": [
       "total_images                0\n",
       "last_price                  0\n",
       "total_area                  0\n",
       "first_day_exposition        0\n",
       "rooms                       0\n",
       "ceiling_height           9195\n",
       "floors_total               86\n",
       "living_area              1903\n",
       "floor                       0\n",
       "is_apartment            20924\n",
       "studio                      0\n",
       "open_plan                   0\n",
       "kitchen_area             2278\n",
       "balcony                 11519\n",
       "locality_name              49\n",
       "airports_nearest         5542\n",
       "cityCenters_nearest      5519\n",
       "parks_around3000         5518\n",
       "parks_nearest           15620\n",
       "ponds_around3000         5518\n",
       "ponds_nearest           14589\n",
       "days_exposition          3181\n",
       "dtype: int64"
      ]
     },
     "execution_count": 7,
     "metadata": {},
     "output_type": "execute_result"
    }
   ],
   "source": [
    "#определение пропущенных значений\n",
    "data.isna().sum()"
   ]
  },
  {
   "cell_type": "markdown",
   "metadata": {},
   "source": [
    "**Пропущенные значения есть в следующих столбцах:**\n",
    "1. Высота потолков (ceiling_height)\n",
    "2. Общая этажность (floors_total)\n",
    "3. Жилая площадь (living_area)\n",
    "4. Признак \"апартаменты\" (is_apartment)\n",
    "5. Площадь кухни (kitchen_area)\n",
    "6. Количество балконов (balcony)\n",
    "7. Населённый пункт (locality_name)\n",
    "8. Расстояние до ближайшего аэропорта (airports_nearest)\n",
    "9. Расстояние до центра города (cityCenters_nearest)\n",
    "10. Парки в радиусе 3 км (parks_around3000)\n",
    "11. Расстояние до ближайшего парка (parks_nearest)\n",
    "12. Пруды в радиусе 3 км (ponds_around3000)\n",
    "13. Расстояние до ближайшего пруда (ponds_nearest)\n",
    "14. Время, которое объявление \"провисело на сайте\" (days_exposition)\n",
    "\n",
    "### Возможные причины появления пропусков в датасете:\n",
    "1. Пользователь не указал количество балконов, так как балконы в квартире отсутствуют. \n",
    "2. В радиусе трёх километров нет парков или водоёмов, соответственно, в картографических данных нет расстояния до них. \n",
    "3. Квартира находится слишком далеко от аэропортов/центра города, чтобы картографическая система опознала один из них как ближайший (в том случае, если у неё есть уставка, например, \"в радусе 50 км\").\n",
    "4. Для непроданных квартир невозможно посчитать время, которое объявление провисело на сайте, так как объявление ещё висит.\n",
    "5. Площадь кухни может быть не указана, так как в студиях нет отдельной кухне, а в обычной квартире её могли объединить с комнатой.\n",
    "6. Пользователь не ввёл данные случайно или намеренно (в случае попытки мошенничества) в поля, не отмеченные как обязательные к заполнению.\n",
    "\n",
    "Строки, для которых не указан населённый пункт, можно удалить, так как их процент от общего датасета очень мал. <br>\n",
    "Для столбцов \"количество балконов\", \"количество парков в радиусе 3 км\", \"количество водоёмов в радиусе 3 км\" допустимо заполнить пропуски нулями. То же самое сделано со столбцом \"площадь кухни\", так как процент пропусков небольшой, и пропуски могут быть обусловлены разными факторами, а заполнение медианным значением может привести к тому, что площадь кухни будет больше общей площади квартиры.<br>\n",
    "Пропущенные значения в столбце \"высота потолков\", можно заменить медианным значением.<br>\n",
    "Пропущенные значения в столбцах \"этажность\" и  \"расстояние до центра города\" можно заменить медианным значением по населённому пункту (если для каких-то групп не будет возможности посчитать медиану - заменим на медиану по всему датасету). <br>\n",
    "Пропущенные значения в столбце \"жилая площадь\" можно заменить медианным значением по числу комнат. <br>\n",
    "Расстояния до аэропорта, парков и прудов можно заполнить медианными значениями, так как это не самые важные параметры.<br>"
   ]
  },
  {
   "cell_type": "code",
   "execution_count": 8,
   "metadata": {},
   "outputs": [],
   "source": [
    "#удаление строк, где не указан населённый пункт\n",
    "data = data.dropna(subset = ['locality_name'])\n",
    "#заполнение пропусков\n",
    "data['balcony'] = data['balcony'].fillna(0) \n",
    "data['kitchen_area'] = data['kitchen_area'].fillna(0) \n",
    "data['parks_around3000'] = data['parks_around3000'].fillna(0) \n",
    "data['ponds_around3000'] = data['ponds_around3000'].fillna(0) "
   ]
  },
  {
   "cell_type": "code",
   "execution_count": 9,
   "metadata": {},
   "outputs": [],
   "source": [
    "data.loc[data['ceiling_height'].isna(), 'ceiling_height'] = data['ceiling_height'].median()\n",
    "data.loc[data['airports_nearest'].isna(), 'airports_nearest'] = data['airports_nearest'].median()\n",
    "data.loc[data['parks_nearest'].isna(), 'parks_nearest'] = data['parks_nearest'].median()\n",
    "data.loc[data['ponds_nearest'].isna(), 'ponds_nearest'] = data['ponds_nearest'].median()\n",
    "data.loc[data['cityCenters_nearest'].isna(), 'cityCenters_nearest'] = data['cityCenters_nearest'].median()"
   ]
  },
  {
   "cell_type": "code",
   "execution_count": 10,
   "metadata": {},
   "outputs": [],
   "source": [
    "for t in data['locality_name'].unique():\n",
    "    data.loc[(data['locality_name'] == t) & (data['floors_total'].isna()), 'floors_total'] = \\\n",
    "    data.loc[(data['locality_name'] == t), 'floors_total'].median()"
   ]
  },
  {
   "cell_type": "code",
   "execution_count": 11,
   "metadata": {},
   "outputs": [],
   "source": [
    "for t in data['rooms'].unique():\n",
    "    data.loc[(data['rooms'] == t) & (data['living_area'].isna()), 'living_area'] = \\\n",
    "    data.loc[(data['rooms'] == t), 'living_area'].median()"
   ]
  },
  {
   "cell_type": "code",
   "execution_count": 12,
   "metadata": {
    "scrolled": true
   },
   "outputs": [
    {
     "data": {
      "text/plain": [
       "total_images                0\n",
       "last_price                  0\n",
       "total_area                  0\n",
       "first_day_exposition        0\n",
       "rooms                       0\n",
       "ceiling_height              0\n",
       "floors_total                0\n",
       "living_area                 0\n",
       "floor                       0\n",
       "is_apartment            20890\n",
       "studio                      0\n",
       "open_plan                   0\n",
       "kitchen_area                0\n",
       "balcony                     0\n",
       "locality_name               0\n",
       "airports_nearest            0\n",
       "cityCenters_nearest         0\n",
       "parks_around3000            0\n",
       "parks_nearest               0\n",
       "ponds_around3000            0\n",
       "ponds_nearest               0\n",
       "days_exposition          3180\n",
       "dtype: int64"
      ]
     },
     "execution_count": 12,
     "metadata": {},
     "output_type": "execute_result"
    }
   ],
   "source": [
    "data.isna().sum()"
   ]
  },
  {
   "cell_type": "markdown",
   "metadata": {},
   "source": [
    "### Изменение типов данных\n",
    "В датасете много числовых значений, столбец с датой и временем, а так же столбец типа с логическими значениями, записанных в формате object. Для дальнейшей работы с этими данными необходимо было преобразовать их в \"свои\" типы."
   ]
  },
  {
   "cell_type": "code",
   "execution_count": 13,
   "metadata": {},
   "outputs": [],
   "source": [
    "#изменение типов данных\n",
    "data['last_price'] = pd.to_numeric(data['last_price'])\n",
    "data['ceiling_height'] = pd.to_numeric(data['ceiling_height'])\n",
    "data['total_area'] = pd.to_numeric(data['total_area'])\n",
    "data['first_day_exposition'] = pd.to_datetime(data['first_day_exposition'])\n",
    "data['floors_total'] = pd.to_numeric(data['floors_total'])\n",
    "data['living_area'] = pd.to_numeric(data['living_area'])\n",
    "data['is_apartment'] = data['is_apartment'].astype('bool')\n",
    "data['kitchen_area'] = pd.to_numeric(data ['kitchen_area'])\n",
    "data['balcony'] = pd.to_numeric(data['balcony'])\n",
    "data['airports_nearest'] = pd.to_numeric(data['airports_nearest']) \n",
    "data['cityCenters_nearest'] = pd.to_numeric(data['cityCenters_nearest']) \n",
    "data['parks_around3000'] = pd.to_numeric(data['parks_around3000'])\n",
    "data['parks_nearest'] = pd.to_numeric(data['parks_nearest']) \n",
    "data['ponds_around3000'] = pd.to_numeric(data['ponds_around3000'])\n",
    "data['ponds_nearest'] = pd.to_numeric(data['ponds_nearest']) \n",
    "data['days_exposition'] = pd.to_numeric(data['days_exposition'])"
   ]
  },
  {
   "cell_type": "markdown",
   "metadata": {},
   "source": [
    "### Удаление неявных дубликатов"
   ]
  },
  {
   "cell_type": "code",
   "execution_count": 14,
   "metadata": {},
   "outputs": [
    {
     "data": {
      "text/plain": [
       "['Санкт-Петербург',\n",
       " 'посёлок Шушары',\n",
       " 'городской посёлок Янино-1',\n",
       " 'посёлок Парголово',\n",
       " 'посёлок Мурино',\n",
       " 'Ломоносов',\n",
       " 'Сертолово',\n",
       " 'Петергоф',\n",
       " 'Пушкин',\n",
       " 'деревня Кудрово',\n",
       " 'Коммунар',\n",
       " 'Колпино',\n",
       " 'поселок городского типа Красный Бор',\n",
       " 'Гатчина',\n",
       " 'поселок Мурино',\n",
       " 'деревня Фёдоровское',\n",
       " 'Выборг',\n",
       " 'Кронштадт',\n",
       " 'Кировск',\n",
       " 'деревня Новое Девяткино',\n",
       " 'посёлок Металлострой',\n",
       " 'посёлок городского типа Лебяжье',\n",
       " 'посёлок городского типа Сиверский',\n",
       " 'поселок Молодцово',\n",
       " 'поселок городского типа Кузьмоловский',\n",
       " 'садовое товарищество Новая Ропша',\n",
       " 'Павловск',\n",
       " 'деревня Пикколово',\n",
       " 'Всеволожск',\n",
       " 'Волхов',\n",
       " 'Кингисепп',\n",
       " 'Приозерск',\n",
       " 'Сестрорецк',\n",
       " 'деревня Куттузи',\n",
       " 'посёлок Аннино',\n",
       " 'поселок городского типа Ефимовский',\n",
       " 'посёлок Плодовое',\n",
       " 'деревня Заклинье',\n",
       " 'поселок Торковичи',\n",
       " 'поселок Первомайское',\n",
       " 'Красное Село',\n",
       " 'посёлок Понтонный',\n",
       " 'Сясьстрой',\n",
       " 'деревня Старая',\n",
       " 'деревня Лесколово',\n",
       " 'посёлок Новый Свет',\n",
       " 'Сланцы',\n",
       " 'село Путилово',\n",
       " 'Ивангород',\n",
       " 'Мурино',\n",
       " 'Шлиссельбург',\n",
       " 'Никольское',\n",
       " 'Зеленогорск',\n",
       " 'Сосновый Бор',\n",
       " 'поселок Новый Свет',\n",
       " 'деревня Оржицы',\n",
       " 'деревня Кальтино',\n",
       " 'Кудрово',\n",
       " 'поселок Романовка',\n",
       " 'посёлок Бугры',\n",
       " 'поселок Бугры',\n",
       " 'поселок городского типа Рощино',\n",
       " 'Кириши',\n",
       " 'Луга',\n",
       " 'Волосово',\n",
       " 'Отрадное',\n",
       " 'село Павлово',\n",
       " 'поселок Оредеж',\n",
       " 'село Копорье',\n",
       " 'посёлок городского типа Красный Бор',\n",
       " 'посёлок Молодёжное',\n",
       " 'Тихвин',\n",
       " 'посёлок Победа',\n",
       " 'деревня Нурма',\n",
       " 'поселок городского типа Синявино',\n",
       " 'Тосно',\n",
       " 'посёлок городского типа Кузьмоловский',\n",
       " 'посёлок Стрельна',\n",
       " 'Бокситогорск',\n",
       " 'посёлок Александровская',\n",
       " 'деревня Лопухинка',\n",
       " 'Пикалёво',\n",
       " 'поселок Терволово',\n",
       " 'поселок городского типа Советский',\n",
       " 'Подпорожье',\n",
       " 'посёлок Петровское',\n",
       " 'посёлок городского типа Токсово',\n",
       " 'поселок Сельцо',\n",
       " 'посёлок городского типа Вырица',\n",
       " 'деревня Кипень',\n",
       " 'деревня Келози',\n",
       " 'деревня Вартемяги',\n",
       " 'посёлок Тельмана',\n",
       " 'поселок Севастьяново',\n",
       " 'городской поселок Большая Ижора',\n",
       " 'городской посёлок Павлово',\n",
       " 'деревня Агалатово',\n",
       " 'посёлок Новогорелово',\n",
       " 'городской посёлок Лесогорский',\n",
       " 'деревня Лаголово',\n",
       " 'поселок Цвелодубово',\n",
       " 'поселок городского типа Рахья',\n",
       " 'поселок городского типа Вырица',\n",
       " 'деревня Белогорка',\n",
       " 'поселок Заводской',\n",
       " 'городской посёлок Новоселье',\n",
       " 'деревня Большие Колпаны',\n",
       " 'деревня Горбунки',\n",
       " 'деревня Батово',\n",
       " 'деревня Заневка',\n",
       " 'деревня Иссад',\n",
       " 'Приморск',\n",
       " 'городской посёлок Фёдоровское',\n",
       " 'деревня Мистолово',\n",
       " 'Новая Ладога',\n",
       " 'поселок Зимитицы',\n",
       " 'поселок Барышево',\n",
       " 'деревня Разметелево',\n",
       " 'поселок городского типа имени Свердлова',\n",
       " 'деревня Пеники',\n",
       " 'поселок Рябово',\n",
       " 'деревня Пудомяги',\n",
       " 'поселок станции Корнево',\n",
       " 'деревня Низино',\n",
       " 'деревня Бегуницы',\n",
       " 'посёлок Поляны',\n",
       " 'городской посёлок Мга',\n",
       " 'поселок Елизаветино',\n",
       " 'посёлок городского типа Кузнечное',\n",
       " 'деревня Колтуши',\n",
       " 'поселок Запорожское',\n",
       " 'посёлок городского типа Рощино',\n",
       " 'деревня Гостилицы',\n",
       " 'деревня Малое Карлино',\n",
       " 'посёлок Мичуринское',\n",
       " 'посёлок городского типа имени Морозова',\n",
       " 'посёлок Песочный',\n",
       " 'посёлок Сосново',\n",
       " 'деревня Аро',\n",
       " 'поселок Ильичёво',\n",
       " 'посёлок городского типа Тайцы',\n",
       " 'деревня Малое Верево',\n",
       " 'деревня Извара',\n",
       " 'поселок станции Вещево',\n",
       " 'село Паша',\n",
       " 'деревня Калитино',\n",
       " 'посёлок городского типа Ульяновка',\n",
       " 'деревня Чудской Бор',\n",
       " 'поселок городского типа Дубровка',\n",
       " 'деревня Мины',\n",
       " 'поселок Войсковицы',\n",
       " 'посёлок городского типа имени Свердлова',\n",
       " 'деревня Коркино',\n",
       " 'посёлок Ропша',\n",
       " 'поселок городского типа Приладожский',\n",
       " 'посёлок Щеглово',\n",
       " 'посёлок Гаврилово',\n",
       " 'Лодейное Поле',\n",
       " 'деревня Рабитицы',\n",
       " 'поселок городского типа Никольский',\n",
       " 'деревня Кузьмолово',\n",
       " 'деревня Малые Колпаны',\n",
       " 'поселок Тельмана',\n",
       " 'посёлок Петро-Славянка',\n",
       " 'городской посёлок Назия',\n",
       " 'посёлок Репино',\n",
       " 'посёлок Ильичёво',\n",
       " 'поселок Углово',\n",
       " 'поселок Старая Малукса',\n",
       " 'садовое товарищество Рахья',\n",
       " 'поселок Аннино',\n",
       " 'поселок Победа',\n",
       " 'деревня Меньково',\n",
       " 'деревня Старые Бегуницы',\n",
       " 'посёлок Сапёрный',\n",
       " 'поселок Семрино',\n",
       " 'поселок Гаврилово',\n",
       " 'поселок Глажево',\n",
       " 'поселок Кобринское',\n",
       " 'деревня Гарболово',\n",
       " 'деревня Юкки',\n",
       " 'поселок станции Приветнинское',\n",
       " 'деревня Мануйлово',\n",
       " 'деревня Пчева',\n",
       " 'поселок Поляны',\n",
       " 'поселок Цвылёво',\n",
       " 'поселок Мельниково',\n",
       " 'посёлок Пудость',\n",
       " 'посёлок Усть-Луга',\n",
       " 'Светогорск',\n",
       " 'Любань',\n",
       " 'поселок Селезнёво',\n",
       " 'поселок городского типа Рябово',\n",
       " 'Каменногорск',\n",
       " 'деревня Кривко',\n",
       " 'поселок Глебычево',\n",
       " 'деревня Парицы',\n",
       " 'поселок Жилпосёлок',\n",
       " 'посёлок городского типа Мга',\n",
       " 'городской поселок Янино-1',\n",
       " 'посёлок Войскорово',\n",
       " 'село Никольское',\n",
       " 'посёлок Терволово',\n",
       " 'поселок Стеклянный',\n",
       " 'посёлок городского типа Важины',\n",
       " 'посёлок Мыза-Ивановка',\n",
       " 'село Русско-Высоцкое',\n",
       " 'поселок городского типа Лебяжье',\n",
       " 'поселок городского типа Форносово',\n",
       " 'село Старая Ладога',\n",
       " 'поселок Житково',\n",
       " 'городской посёлок Виллози',\n",
       " 'деревня Лампово',\n",
       " 'деревня Шпаньково',\n",
       " 'деревня Лаврики',\n",
       " 'посёлок Сумино',\n",
       " 'посёлок Возрождение',\n",
       " 'деревня Старосиверская',\n",
       " 'посёлок Кикерино',\n",
       " 'поселок Возрождение',\n",
       " 'деревня Старое Хинколово',\n",
       " 'посёлок Пригородный',\n",
       " 'посёлок Торфяное',\n",
       " 'городской посёлок Будогощь',\n",
       " 'поселок Суходолье',\n",
       " 'поселок Красная Долина',\n",
       " 'деревня Хапо-Ое',\n",
       " 'поселок городского типа Дружная Горка',\n",
       " 'поселок Лисий Нос',\n",
       " 'деревня Яльгелево',\n",
       " 'посёлок Стеклянный',\n",
       " 'село Рождествено',\n",
       " 'деревня Старополье',\n",
       " 'посёлок Левашово',\n",
       " 'деревня Сяськелево',\n",
       " 'деревня Камышовка',\n",
       " 'садоводческое некоммерческое товарищество Лесная Поляна',\n",
       " 'деревня Хязельки',\n",
       " 'поселок Жилгородок',\n",
       " 'посёлок городского типа Павлово',\n",
       " 'деревня Ялгино',\n",
       " 'поселок Новый Учхоз',\n",
       " 'городской посёлок Рощино',\n",
       " 'поселок Гончарово',\n",
       " 'поселок Почап',\n",
       " 'посёлок Сапёрное',\n",
       " 'посёлок Платформа 69-й километр',\n",
       " 'поселок Каложицы',\n",
       " 'деревня Фалилеево',\n",
       " 'деревня Пельгора',\n",
       " 'поселок городского типа Лесогорский',\n",
       " 'деревня Торошковичи',\n",
       " 'посёлок Белоостров',\n",
       " 'посёлок Алексеевка',\n",
       " 'поселок Серебрянский',\n",
       " 'поселок Лукаши',\n",
       " 'поселок Петровское',\n",
       " 'деревня Щеглово',\n",
       " 'поселок Мичуринское',\n",
       " 'деревня Тарасово',\n",
       " 'поселок Кингисеппский',\n",
       " 'посёлок при железнодорожной станции Вещево',\n",
       " 'поселок Ушаки',\n",
       " 'деревня Котлы',\n",
       " 'деревня Сижно',\n",
       " 'деревня Торосово',\n",
       " 'посёлок Форт Красная Горка',\n",
       " 'поселок городского типа Токсово',\n",
       " 'деревня Новолисино',\n",
       " 'посёлок станции Громово',\n",
       " 'деревня Глинка',\n",
       " 'посёлок Мельниково',\n",
       " 'поселок городского типа Назия',\n",
       " 'деревня Старая Пустошь',\n",
       " 'поселок Коммунары',\n",
       " 'поселок Починок',\n",
       " 'посёлок городского типа Вознесенье',\n",
       " 'деревня Разбегаево',\n",
       " 'посёлок городского типа Рябово',\n",
       " 'поселок Гладкое',\n",
       " 'посёлок при железнодорожной станции Приветнинское',\n",
       " 'поселок Тёсово-4',\n",
       " 'посёлок Жилгородок',\n",
       " 'деревня Бор',\n",
       " 'посёлок Коробицыно',\n",
       " 'деревня Большая Вруда',\n",
       " 'деревня Курковицы',\n",
       " 'посёлок Лисий Нос',\n",
       " 'городской посёлок Советский',\n",
       " 'посёлок Кобралово',\n",
       " 'деревня Суоранда',\n",
       " 'поселок Кобралово',\n",
       " 'поселок городского типа Кондратьево',\n",
       " 'коттеджный поселок Счастье',\n",
       " 'поселок Любань',\n",
       " 'деревня Реброво',\n",
       " 'деревня Зимитицы',\n",
       " 'деревня Тойворово',\n",
       " 'поселок Семиозерье',\n",
       " 'поселок Лесное',\n",
       " 'поселок Совхозный',\n",
       " 'поселок Усть-Луга',\n",
       " 'посёлок Ленинское',\n",
       " 'посёлок Суйда',\n",
       " 'посёлок городского типа Форносово',\n",
       " 'деревня Нижние Осельки',\n",
       " 'посёлок станции Свирь',\n",
       " 'поселок Перово',\n",
       " 'Высоцк',\n",
       " 'поселок Гарболово',\n",
       " 'село Шум',\n",
       " 'поселок Котельский',\n",
       " 'поселок станции Лужайка',\n",
       " 'деревня Большая Пустомержа',\n",
       " 'поселок Красносельское',\n",
       " 'деревня Вахнова Кара',\n",
       " 'деревня Пижма',\n",
       " 'коттеджный поселок Кивеннапа Север',\n",
       " 'поселок Коробицыно',\n",
       " 'поселок Ромашки',\n",
       " 'посёлок Перово',\n",
       " 'деревня Каськово',\n",
       " 'деревня Куровицы',\n",
       " 'посёлок Плоское',\n",
       " 'поселок Сумино',\n",
       " 'поселок городского типа Большая Ижора',\n",
       " 'поселок Кирпичное',\n",
       " 'деревня Ям-Тесово',\n",
       " 'деревня Раздолье',\n",
       " 'деревня Терпилицы',\n",
       " 'посёлок Шугозеро',\n",
       " 'деревня Ваганово',\n",
       " 'поселок Пушное',\n",
       " 'садовое товарищество Садко',\n",
       " 'посёлок Усть-Ижора',\n",
       " 'деревня Выскатка',\n",
       " 'городской посёлок Свирьстрой',\n",
       " 'поселок Громово',\n",
       " 'деревня Кисельня',\n",
       " 'посёлок Старая Малукса',\n",
       " 'деревня Трубников Бор',\n",
       " 'поселок Калитино',\n",
       " 'посёлок Высокоключевой',\n",
       " 'садовое товарищество Приладожский',\n",
       " 'посёлок Пансионат Зелёный Бор',\n",
       " 'деревня Ненимяки',\n",
       " 'поселок Пансионат Зелёный Бор',\n",
       " 'деревня Снегирёвка',\n",
       " 'деревня Рапполово',\n",
       " 'деревня Пустынка',\n",
       " 'поселок Рабитицы',\n",
       " 'деревня Большой Сабск',\n",
       " 'деревня Русско',\n",
       " 'деревня Лупполово',\n",
       " 'деревня Большое Рейзино',\n",
       " 'деревня Малая Романовка',\n",
       " 'поселок Дружноселье',\n",
       " 'поселок Пчевжа',\n",
       " 'поселок Володарское',\n",
       " 'деревня Нижняя',\n",
       " 'коттеджный посёлок Лесное',\n",
       " 'деревня Тихковицы',\n",
       " 'деревня Борисова Грива',\n",
       " 'посёлок Дзержинского']"
      ]
     },
     "metadata": {},
     "output_type": "display_data"
    }
   ],
   "source": [
    "display(data['locality_name'].unique().tolist())"
   ]
  },
  {
   "cell_type": "code",
   "execution_count": 15,
   "metadata": {},
   "outputs": [],
   "source": [
    "#обработка неявных дубликатов\n",
    "location_types = ['посёлок', 'городской посёлок', 'поселок городского типа', 'поселок', 'посёлок городского типа', 'коттеджный поселок', 'коттеджный посёлок']\n",
    "for location in location_types:\n",
    "    data['locality_name'] = data['locality_name'].str.replace(location, 'посёлок', regex=True)\n",
    "    \n",
    "loc_types = ['садовое товарищество', 'садовое некоммерческое товарищество']    \n",
    "for location in loc_types:\n",
    "    data['locality_name'] = data['locality_name'].str.replace(location, 'садовое товарищество', regex=True)"
   ]
  },
  {
   "cell_type": "code",
   "execution_count": 16,
   "metadata": {},
   "outputs": [
    {
     "data": {
      "text/plain": [
       "['Санкт-Петербург',\n",
       " 'посёлок Шушары',\n",
       " 'посёлок Янино-1',\n",
       " 'посёлок Парголово',\n",
       " 'посёлок Мурино',\n",
       " 'Ломоносов',\n",
       " 'Сертолово',\n",
       " 'Петергоф',\n",
       " 'Пушкин',\n",
       " 'деревня Кудрово',\n",
       " 'Коммунар',\n",
       " 'Колпино',\n",
       " 'посёлок Красный Бор',\n",
       " 'Гатчина',\n",
       " 'деревня Фёдоровское',\n",
       " 'Выборг',\n",
       " 'Кронштадт',\n",
       " 'Кировск',\n",
       " 'деревня Новое Девяткино',\n",
       " 'посёлок Металлострой',\n",
       " 'посёлок Лебяжье',\n",
       " 'посёлок Сиверский',\n",
       " 'посёлок Молодцово',\n",
       " 'посёлок Кузьмоловский',\n",
       " 'садовое товарищество Новая Ропша',\n",
       " 'Павловск',\n",
       " 'деревня Пикколово',\n",
       " 'Всеволожск',\n",
       " 'Волхов',\n",
       " 'Кингисепп',\n",
       " 'Приозерск',\n",
       " 'Сестрорецк',\n",
       " 'деревня Куттузи',\n",
       " 'посёлок Аннино',\n",
       " 'посёлок Ефимовский',\n",
       " 'посёлок Плодовое',\n",
       " 'деревня Заклинье',\n",
       " 'посёлок Торковичи',\n",
       " 'посёлок Первомайское',\n",
       " 'Красное Село',\n",
       " 'посёлок Понтонный',\n",
       " 'Сясьстрой',\n",
       " 'деревня Старая',\n",
       " 'деревня Лесколово',\n",
       " 'посёлок Новый Свет',\n",
       " 'Сланцы',\n",
       " 'село Путилово',\n",
       " 'Ивангород',\n",
       " 'Мурино',\n",
       " 'Шлиссельбург',\n",
       " 'Никольское',\n",
       " 'Зеленогорск',\n",
       " 'Сосновый Бор',\n",
       " 'деревня Оржицы',\n",
       " 'деревня Кальтино',\n",
       " 'Кудрово',\n",
       " 'посёлок Романовка',\n",
       " 'посёлок Бугры',\n",
       " 'посёлок Рощино',\n",
       " 'Кириши',\n",
       " 'Луга',\n",
       " 'Волосово',\n",
       " 'Отрадное',\n",
       " 'село Павлово',\n",
       " 'посёлок Оредеж',\n",
       " 'село Копорье',\n",
       " 'посёлок Молодёжное',\n",
       " 'Тихвин',\n",
       " 'посёлок Победа',\n",
       " 'деревня Нурма',\n",
       " 'посёлок Синявино',\n",
       " 'Тосно',\n",
       " 'посёлок Стрельна',\n",
       " 'Бокситогорск',\n",
       " 'посёлок Александровская',\n",
       " 'деревня Лопухинка',\n",
       " 'Пикалёво',\n",
       " 'посёлок Терволово',\n",
       " 'посёлок Советский',\n",
       " 'Подпорожье',\n",
       " 'посёлок Петровское',\n",
       " 'посёлок Токсово',\n",
       " 'посёлок Сельцо',\n",
       " 'посёлок Вырица',\n",
       " 'деревня Кипень',\n",
       " 'деревня Келози',\n",
       " 'деревня Вартемяги',\n",
       " 'посёлок Тельмана',\n",
       " 'посёлок Севастьяново',\n",
       " 'городской посёлок Большая Ижора',\n",
       " 'посёлок Павлово',\n",
       " 'деревня Агалатово',\n",
       " 'посёлок Новогорелово',\n",
       " 'посёлок Лесогорский',\n",
       " 'деревня Лаголово',\n",
       " 'посёлок Цвелодубово',\n",
       " 'посёлок Рахья',\n",
       " 'деревня Белогорка',\n",
       " 'посёлок Заводской',\n",
       " 'посёлок Новоселье',\n",
       " 'деревня Большие Колпаны',\n",
       " 'деревня Горбунки',\n",
       " 'деревня Батово',\n",
       " 'деревня Заневка',\n",
       " 'деревня Иссад',\n",
       " 'Приморск',\n",
       " 'посёлок Фёдоровское',\n",
       " 'деревня Мистолово',\n",
       " 'Новая Ладога',\n",
       " 'посёлок Зимитицы',\n",
       " 'посёлок Барышево',\n",
       " 'деревня Разметелево',\n",
       " 'посёлок имени Свердлова',\n",
       " 'деревня Пеники',\n",
       " 'посёлок Рябово',\n",
       " 'деревня Пудомяги',\n",
       " 'посёлок станции Корнево',\n",
       " 'деревня Низино',\n",
       " 'деревня Бегуницы',\n",
       " 'посёлок Поляны',\n",
       " 'посёлок Мга',\n",
       " 'посёлок Елизаветино',\n",
       " 'посёлок Кузнечное',\n",
       " 'деревня Колтуши',\n",
       " 'посёлок Запорожское',\n",
       " 'деревня Гостилицы',\n",
       " 'деревня Малое Карлино',\n",
       " 'посёлок Мичуринское',\n",
       " 'посёлок имени Морозова',\n",
       " 'посёлок Песочный',\n",
       " 'посёлок Сосново',\n",
       " 'деревня Аро',\n",
       " 'посёлок Ильичёво',\n",
       " 'посёлок Тайцы',\n",
       " 'деревня Малое Верево',\n",
       " 'деревня Извара',\n",
       " 'посёлок станции Вещево',\n",
       " 'село Паша',\n",
       " 'деревня Калитино',\n",
       " 'посёлок Ульяновка',\n",
       " 'деревня Чудской Бор',\n",
       " 'посёлок Дубровка',\n",
       " 'деревня Мины',\n",
       " 'посёлок Войсковицы',\n",
       " 'деревня Коркино',\n",
       " 'посёлок Ропша',\n",
       " 'посёлок Приладожский',\n",
       " 'посёлок Щеглово',\n",
       " 'посёлок Гаврилово',\n",
       " 'Лодейное Поле',\n",
       " 'деревня Рабитицы',\n",
       " 'посёлок Никольский',\n",
       " 'деревня Кузьмолово',\n",
       " 'деревня Малые Колпаны',\n",
       " 'посёлок Петро-Славянка',\n",
       " 'посёлок Назия',\n",
       " 'посёлок Репино',\n",
       " 'посёлок Углово',\n",
       " 'посёлок Старая Малукса',\n",
       " 'садовое товарищество Рахья',\n",
       " 'деревня Меньково',\n",
       " 'деревня Старые Бегуницы',\n",
       " 'посёлок Сапёрный',\n",
       " 'посёлок Семрино',\n",
       " 'посёлок Глажево',\n",
       " 'посёлок Кобринское',\n",
       " 'деревня Гарболово',\n",
       " 'деревня Юкки',\n",
       " 'посёлок станции Приветнинское',\n",
       " 'деревня Мануйлово',\n",
       " 'деревня Пчева',\n",
       " 'посёлок Цвылёво',\n",
       " 'посёлок Мельниково',\n",
       " 'посёлок Пудость',\n",
       " 'посёлок Усть-Луга',\n",
       " 'Светогорск',\n",
       " 'Любань',\n",
       " 'посёлок Селезнёво',\n",
       " 'Каменногорск',\n",
       " 'деревня Кривко',\n",
       " 'посёлок Глебычево',\n",
       " 'деревня Парицы',\n",
       " 'посёлок Жилпосёлок',\n",
       " 'городской посёлок Янино-1',\n",
       " 'посёлок Войскорово',\n",
       " 'село Никольское',\n",
       " 'посёлок Стеклянный',\n",
       " 'посёлок Важины',\n",
       " 'посёлок Мыза-Ивановка',\n",
       " 'село Русско-Высоцкое',\n",
       " 'посёлок Форносово',\n",
       " 'село Старая Ладога',\n",
       " 'посёлок Житково',\n",
       " 'посёлок Виллози',\n",
       " 'деревня Лампово',\n",
       " 'деревня Шпаньково',\n",
       " 'деревня Лаврики',\n",
       " 'посёлок Сумино',\n",
       " 'посёлок Возрождение',\n",
       " 'деревня Старосиверская',\n",
       " 'посёлок Кикерино',\n",
       " 'деревня Старое Хинколово',\n",
       " 'посёлок Пригородный',\n",
       " 'посёлок Торфяное',\n",
       " 'посёлок Будогощь',\n",
       " 'посёлок Суходолье',\n",
       " 'посёлок Красная Долина',\n",
       " 'деревня Хапо-Ое',\n",
       " 'посёлок Дружная Горка',\n",
       " 'посёлок Лисий Нос',\n",
       " 'деревня Яльгелево',\n",
       " 'село Рождествено',\n",
       " 'деревня Старополье',\n",
       " 'посёлок Левашово',\n",
       " 'деревня Сяськелево',\n",
       " 'деревня Камышовка',\n",
       " 'садоводческое некоммерческое товарищество Лесная Поляна',\n",
       " 'деревня Хязельки',\n",
       " 'посёлок Жилгородок',\n",
       " 'деревня Ялгино',\n",
       " 'посёлок Новый Учхоз',\n",
       " 'посёлок Гончарово',\n",
       " 'посёлок Почап',\n",
       " 'посёлок Сапёрное',\n",
       " 'посёлок Платформа 69-й километр',\n",
       " 'посёлок Каложицы',\n",
       " 'деревня Фалилеево',\n",
       " 'деревня Пельгора',\n",
       " 'деревня Торошковичи',\n",
       " 'посёлок Белоостров',\n",
       " 'посёлок Алексеевка',\n",
       " 'посёлок Серебрянский',\n",
       " 'посёлок Лукаши',\n",
       " 'деревня Щеглово',\n",
       " 'деревня Тарасово',\n",
       " 'посёлок Кингисеппский',\n",
       " 'посёлок при железнодорожной станции Вещево',\n",
       " 'посёлок Ушаки',\n",
       " 'деревня Котлы',\n",
       " 'деревня Сижно',\n",
       " 'деревня Торосово',\n",
       " 'посёлок Форт Красная Горка',\n",
       " 'деревня Новолисино',\n",
       " 'посёлок станции Громово',\n",
       " 'деревня Глинка',\n",
       " 'деревня Старая Пустошь',\n",
       " 'посёлок Коммунары',\n",
       " 'посёлок Починок',\n",
       " 'посёлок Вознесенье',\n",
       " 'деревня Разбегаево',\n",
       " 'посёлок Гладкое',\n",
       " 'посёлок при железнодорожной станции Приветнинское',\n",
       " 'посёлок Тёсово-4',\n",
       " 'деревня Бор',\n",
       " 'посёлок Коробицыно',\n",
       " 'деревня Большая Вруда',\n",
       " 'деревня Курковицы',\n",
       " 'посёлок Кобралово',\n",
       " 'деревня Суоранда',\n",
       " 'посёлок Кондратьево',\n",
       " 'посёлок Счастье',\n",
       " 'посёлок Любань',\n",
       " 'деревня Реброво',\n",
       " 'деревня Зимитицы',\n",
       " 'деревня Тойворово',\n",
       " 'посёлок Семиозерье',\n",
       " 'посёлок Лесное',\n",
       " 'посёлок Совхозный',\n",
       " 'посёлок Ленинское',\n",
       " 'посёлок Суйда',\n",
       " 'деревня Нижние Осельки',\n",
       " 'посёлок станции Свирь',\n",
       " 'посёлок Перово',\n",
       " 'Высоцк',\n",
       " 'посёлок Гарболово',\n",
       " 'село Шум',\n",
       " 'посёлок Котельский',\n",
       " 'посёлок станции Лужайка',\n",
       " 'деревня Большая Пустомержа',\n",
       " 'посёлок Красносельское',\n",
       " 'деревня Вахнова Кара',\n",
       " 'деревня Пижма',\n",
       " 'посёлок Кивеннапа Север',\n",
       " 'посёлок Ромашки',\n",
       " 'деревня Каськово',\n",
       " 'деревня Куровицы',\n",
       " 'посёлок Плоское',\n",
       " 'посёлок Большая Ижора',\n",
       " 'посёлок Кирпичное',\n",
       " 'деревня Ям-Тесово',\n",
       " 'деревня Раздолье',\n",
       " 'деревня Терпилицы',\n",
       " 'посёлок Шугозеро',\n",
       " 'деревня Ваганово',\n",
       " 'посёлок Пушное',\n",
       " 'садовое товарищество Садко',\n",
       " 'посёлок Усть-Ижора',\n",
       " 'деревня Выскатка',\n",
       " 'посёлок Свирьстрой',\n",
       " 'посёлок Громово',\n",
       " 'деревня Кисельня',\n",
       " 'деревня Трубников Бор',\n",
       " 'посёлок Калитино',\n",
       " 'посёлок Высокоключевой',\n",
       " 'садовое товарищество Приладожский',\n",
       " 'посёлок Пансионат Зелёный Бор',\n",
       " 'деревня Ненимяки',\n",
       " 'деревня Снегирёвка',\n",
       " 'деревня Рапполово',\n",
       " 'деревня Пустынка',\n",
       " 'посёлок Рабитицы',\n",
       " 'деревня Большой Сабск',\n",
       " 'деревня Русско',\n",
       " 'деревня Лупполово',\n",
       " 'деревня Большое Рейзино',\n",
       " 'деревня Малая Романовка',\n",
       " 'посёлок Дружноселье',\n",
       " 'посёлок Пчевжа',\n",
       " 'посёлок Володарское',\n",
       " 'деревня Нижняя',\n",
       " 'деревня Тихковицы',\n",
       " 'деревня Борисова Грива',\n",
       " 'посёлок Дзержинского']"
      ]
     },
     "metadata": {},
     "output_type": "display_data"
    }
   ],
   "source": [
    "display(data['locality_name'].unique().tolist())"
   ]
  },
  {
   "cell_type": "markdown",
   "metadata": {},
   "source": [
    "### Удаление аномальных значений\n",
    "Найдём выбросы в столбцах \"цена\", \"общая площадь\", \"количество комнат\", \"высота потолков\", \"жилой площади\" и \"этажности\", так как это самые важные для нашего анализа данные."
   ]
  },
  {
   "cell_type": "code",
   "execution_count": 17,
   "metadata": {},
   "outputs": [
    {
     "data": {
      "text/plain": [
       "count    23650.000000\n",
       "mean        60.329069\n",
       "std         35.661808\n",
       "min         12.000000\n",
       "25%         40.000000\n",
       "50%         52.000000\n",
       "75%         69.700000\n",
       "max        900.000000\n",
       "Name: total_area, dtype: float64"
      ]
     },
     "execution_count": 17,
     "metadata": {},
     "output_type": "execute_result"
    },
    {
     "data": {
      "image/png": "[encoded data removed]",
      "text/plain": [
       "<Figure size 432x288 with 1 Axes>"
      ]
     },
     "metadata": {
      "needs_background": "light"
     },
     "output_type": "display_data"
    }
   ],
   "source": [
    "# построение диаграммы размаха для общей площади\n",
    "data.boxplot('total_area') \n",
    "plt.ylim(0, 150)\n",
    "data['total_area'].describe()"
   ]
  },
  {
   "cell_type": "code",
   "execution_count": 18,
   "metadata": {},
   "outputs": [
    {
     "data": {
      "text/plain": [
       "count    22507.000000\n",
       "mean        54.602022\n",
       "std         19.740061\n",
       "min         12.000000\n",
       "25%         39.400000\n",
       "50%         50.300000\n",
       "75%         66.000000\n",
       "max        117.700000\n",
       "Name: total_area, dtype: float64"
      ]
     },
     "execution_count": 18,
     "metadata": {},
     "output_type": "execute_result"
    }
   ],
   "source": [
    "#удаление аномальных значений\n",
    "data = data[(data['total_area'] < 118)]\n",
    "data['total_area'].describe()"
   ]
  },
  {
   "cell_type": "code",
   "execution_count": 19,
   "metadata": {
    "scrolled": true
   },
   "outputs": [
    {
     "data": {
      "text/plain": [
       "count    22507.000000\n",
       "mean         1.954414\n",
       "std          0.904662\n",
       "min          0.000000\n",
       "25%          1.000000\n",
       "50%          2.000000\n",
       "75%          3.000000\n",
       "max          7.000000\n",
       "Name: rooms, dtype: float64"
      ]
     },
     "execution_count": 19,
     "metadata": {},
     "output_type": "execute_result"
    },
    {
     "data": {
      "image/png": "[encoded data removed]",
      "text/plain": [
       "<Figure size 432x288 with 1 Axes>"
      ]
     },
     "metadata": {
      "needs_background": "light"
     },
     "output_type": "display_data"
    }
   ],
   "source": [
    "# построение диаграммы размаха для количества комнат\n",
    "data.boxplot('rooms') \n",
    "plt.ylim(0, 15)\n",
    "data['rooms'].describe()"
   ]
  },
  {
   "cell_type": "code",
   "execution_count": 20,
   "metadata": {},
   "outputs": [
    {
     "data": {
      "text/plain": [
       "count    22497.000000\n",
       "mean         1.952571\n",
       "std          0.900608\n",
       "min          0.000000\n",
       "25%          1.000000\n",
       "50%          2.000000\n",
       "75%          3.000000\n",
       "max          5.000000\n",
       "Name: rooms, dtype: float64"
      ]
     },
     "execution_count": 20,
     "metadata": {},
     "output_type": "execute_result"
    }
   ],
   "source": [
    "#удаление аномальных значений\n",
    "data = data[(data['rooms'] < 6)]\n",
    "data['rooms'].describe()"
   ]
  },
  {
   "cell_type": "code",
   "execution_count": 21,
   "metadata": {},
   "outputs": [
    {
     "data": {
      "text/plain": [
       "count    22497.000000\n",
       "mean         2.710000\n",
       "std          1.007775\n",
       "min          1.000000\n",
       "25%          2.600000\n",
       "50%          2.650000\n",
       "75%          2.700000\n",
       "max        100.000000\n",
       "Name: ceiling_height, dtype: float64"
      ]
     },
     "execution_count": 21,
     "metadata": {},
     "output_type": "execute_result"
    },
    {
     "data": {
      "image/png": "[encoded data removed]",
      "text/plain": [
       "<Figure size 432x288 with 1 Axes>"
      ]
     },
     "metadata": {
      "needs_background": "light"
     },
     "output_type": "display_data"
    }
   ],
   "source": [
    "# построение диаграммы размаха для высоты потолков\n",
    "data.boxplot('ceiling_height') \n",
    "plt.ylim(0, 4)\n",
    "data['ceiling_height'].describe()"
   ]
  },
  {
   "cell_type": "code",
   "execution_count": 22,
   "metadata": {},
   "outputs": [
    {
     "data": {
      "text/plain": [
       "count    20111.000000\n",
       "mean         2.628018\n",
       "std          0.083884\n",
       "min          1.000000\n",
       "25%          2.570000\n",
       "50%          2.650000\n",
       "75%          2.650000\n",
       "max          2.840000\n",
       "Name: ceiling_height, dtype: float64"
      ]
     },
     "execution_count": 22,
     "metadata": {},
     "output_type": "execute_result"
    }
   ],
   "source": [
    "#удаление аномальных значений\n",
    "data = data[(data['ceiling_height'] < 2.85)]\n",
    "data['ceiling_height'].describe()"
   ]
  },
  {
   "cell_type": "code",
   "execution_count": 23,
   "metadata": {
    "scrolled": true
   },
   "outputs": [
    {
     "data": {
      "text/plain": [
       "count    20111.000000\n",
       "mean        11.216474\n",
       "std          6.655985\n",
       "min          1.000000\n",
       "25%          5.000000\n",
       "50%          9.000000\n",
       "75%         16.000000\n",
       "max         52.000000\n",
       "Name: floors_total, dtype: float64"
      ]
     },
     "execution_count": 23,
     "metadata": {},
     "output_type": "execute_result"
    },
    {
     "data": {
      "image/png": "[encoded data removed]",
      "text/plain": [
       "<Figure size 432x288 with 1 Axes>"
      ]
     },
     "metadata": {
      "needs_background": "light"
     },
     "output_type": "display_data"
    }
   ],
   "source": [
    "# построение диаграммы размаха для количества этажей\n",
    "data.boxplot('floors_total') \n",
    "plt.ylim(0, 35)\n",
    "data['floors_total'].describe()"
   ]
  },
  {
   "cell_type": "code",
   "execution_count": 24,
   "metadata": {},
   "outputs": [
    {
     "data": {
      "text/plain": [
       "count    20080.000000\n",
       "mean        11.179158\n",
       "std          6.591711\n",
       "min          1.000000\n",
       "25%          5.000000\n",
       "50%          9.000000\n",
       "75%         16.000000\n",
       "max         28.000000\n",
       "Name: floors_total, dtype: float64"
      ]
     },
     "execution_count": 24,
     "metadata": {},
     "output_type": "execute_result"
    }
   ],
   "source": [
    "#удаление аномальных значений\n",
    "data = data[(data['floors_total'] < 29)]\n",
    "data['floors_total'].describe()"
   ]
  },
  {
   "cell_type": "code",
   "execution_count": 25,
   "metadata": {},
   "outputs": [
    {
     "data": {
      "text/plain": [
       "count    20080.000000\n",
       "mean        29.951983\n",
       "std         12.747142\n",
       "min          2.000000\n",
       "25%         18.000000\n",
       "50%         29.000000\n",
       "75%         39.000000\n",
       "max         93.600000\n",
       "Name: living_area, dtype: float64"
      ]
     },
     "execution_count": 25,
     "metadata": {},
     "output_type": "execute_result"
    },
    {
     "data": {
      "image/png": "[encoded data removed]",
      "text/plain": [
       "<Figure size 432x288 with 1 Axes>"
      ]
     },
     "metadata": {
      "needs_background": "light"
     },
     "output_type": "display_data"
    }
   ],
   "source": [
    "# построение диаграммы размаха для жилой площади\n",
    "data.boxplot('living_area') \n",
    "plt.ylim(0, 120)\n",
    "data['living_area'].describe()"
   ]
  },
  {
   "cell_type": "code",
   "execution_count": 26,
   "metadata": {},
   "outputs": [
    {
     "data": {
      "text/plain": [
       "count    20020.000000\n",
       "mean        29.795183\n",
       "std         12.435596\n",
       "min          2.000000\n",
       "25%         18.000000\n",
       "50%         29.000000\n",
       "75%         38.900000\n",
       "max         74.800000\n",
       "Name: living_area, dtype: float64"
      ]
     },
     "execution_count": 26,
     "metadata": {},
     "output_type": "execute_result"
    }
   ],
   "source": [
    "#удаление аномальных значений\n",
    "data = data[(data['living_area'] < 75)]\n",
    "data['living_area'].describe()"
   ]
  },
  {
   "cell_type": "code",
   "execution_count": 27,
   "metadata": {},
   "outputs": [
    {
     "data": {
      "text/plain": [
       "count    2.002000e+04\n",
       "mean     4.918950e+06\n",
       "std      2.861253e+06\n",
       "min      1.219000e+04\n",
       "25%      3.252250e+06\n",
       "50%      4.300000e+06\n",
       "75%      5.800000e+06\n",
       "max      5.000000e+07\n",
       "Name: last_price, dtype: float64"
      ]
     },
     "execution_count": 27,
     "metadata": {},
     "output_type": "execute_result"
    },
    {
     "data": {
      "image/png": "[encoded data removed]",
      "text/plain": [
       "<Figure size 432x288 with 1 Axes>"
      ]
     },
     "metadata": {
      "needs_background": "light"
     },
     "output_type": "display_data"
    }
   ],
   "source": [
    "# построение диаграммы размаха для цены\n",
    "data.boxplot('last_price') \n",
    "plt.ylim(0, 9900000)\n",
    "data['last_price'].describe()"
   ]
  },
  {
   "cell_type": "code",
   "execution_count": 28,
   "metadata": {},
   "outputs": [
    {
     "data": {
      "text/plain": [
       "count    1.829000e+04\n",
       "mean     4.275557e+06\n",
       "std      1.626742e+06\n",
       "min      1.219000e+04\n",
       "25%      3.170000e+06\n",
       "50%      4.100000e+06\n",
       "75%      5.300000e+06\n",
       "max      8.495000e+06\n",
       "Name: last_price, dtype: float64"
      ]
     },
     "execution_count": 28,
     "metadata": {},
     "output_type": "execute_result"
    }
   ],
   "source": [
    "#удаление аномальных значений\n",
    "data = data[(data['last_price'] < 8500000)]\n",
    "data['last_price'].describe()"
   ]
  },
  {
   "cell_type": "code",
   "execution_count": 29,
   "metadata": {},
   "outputs": [
    {
     "data": {
      "text/plain": [
       "count    16241.000000\n",
       "mean       165.410689\n",
       "std        202.788958\n",
       "min          1.000000\n",
       "25%         42.000000\n",
       "50%         88.000000\n",
       "75%        209.000000\n",
       "max       1580.000000\n",
       "Name: days_exposition, dtype: float64"
      ]
     },
     "execution_count": 29,
     "metadata": {},
     "output_type": "execute_result"
    },
    {
     "data": {
      "image/png": "[encoded data removed]",
      "text/plain": [
       "<Figure size 432x288 with 1 Axes>"
      ]
     },
     "metadata": {
      "needs_background": "light"
     },
     "output_type": "display_data"
    }
   ],
   "source": [
    "# построение диаграммы размаха для времени продажи квартиры\n",
    "data.boxplot('days_exposition') \n",
    "plt.ylim(0, 1500)\n",
    "data['days_exposition'].describe()"
   ]
  },
  {
   "cell_type": "code",
   "execution_count": 30,
   "metadata": {},
   "outputs": [
    {
     "data": {
      "text/plain": [
       "count    14892.000000\n",
       "mean       116.482004\n",
       "std        109.426436\n",
       "min          1.000000\n",
       "25%         38.000000\n",
       "50%         74.000000\n",
       "75%        166.000000\n",
       "max        464.000000\n",
       "Name: days_exposition, dtype: float64"
      ]
     },
     "execution_count": 30,
     "metadata": {},
     "output_type": "execute_result"
    }
   ],
   "source": [
    "#удаление аномальных значений\n",
    "data = data[(data['days_exposition'] < 465)]\n",
    "data['days_exposition'].describe()"
   ]
  },
  {
   "cell_type": "markdown",
   "metadata": {},
   "source": [
    "### Промежуточный вывод\n",
    "В результате предобработки были скорректированы типы данных, заполнены пропуски, а так же удалены аномальные значения. Из датасета было отфильтровано порядка 38% данных."
   ]
  },
  {
   "cell_type": "markdown",
   "metadata": {},
   "source": [
    "### 3. Посчитайте и добавьте в таблицу новые столбцы"
   ]
  },
  {
   "cell_type": "code",
   "execution_count": 31,
   "metadata": {},
   "outputs": [],
   "source": [
    "#цена одного квадратного метра\n",
    "data['specific_price'] = data['last_price'] / data['total_area']"
   ]
  },
  {
   "cell_type": "code",
   "execution_count": 32,
   "metadata": {},
   "outputs": [
    {
     "data": {
      "text/html": [
       "<div>\n",
       "<style scoped>\n",
       "    .dataframe tbody tr th:only-of-type {\n",
       "        vertical-align: middle;\n",
       "    }\n",
       "\n",
       "    .dataframe tbody tr th {\n",
       "        vertical-align: top;\n",
       "    }\n",
       "\n",
       "    .dataframe thead th {\n",
       "        text-align: right;\n",
       "    }\n",
       "</style>\n",
       "<table border=\"1\" class=\"dataframe\">\n",
       "  <thead>\n",
       "    <tr style=\"text-align: right;\">\n",
       "      <th></th>\n",
       "      <th>first_day_exposition</th>\n",
       "      <th>day_exp</th>\n",
       "    </tr>\n",
       "  </thead>\n",
       "  <tbody>\n",
       "    <tr>\n",
       "      <th>1</th>\n",
       "      <td>2018-12-04</td>\n",
       "      <td>1</td>\n",
       "    </tr>\n",
       "    <tr>\n",
       "      <th>5</th>\n",
       "      <td>2018-09-10</td>\n",
       "      <td>0</td>\n",
       "    </tr>\n",
       "    <tr>\n",
       "      <th>6</th>\n",
       "      <td>2017-11-02</td>\n",
       "      <td>3</td>\n",
       "    </tr>\n",
       "    <tr>\n",
       "      <th>8</th>\n",
       "      <td>2018-05-23</td>\n",
       "      <td>2</td>\n",
       "    </tr>\n",
       "    <tr>\n",
       "      <th>9</th>\n",
       "      <td>2017-02-26</td>\n",
       "      <td>6</td>\n",
       "    </tr>\n",
       "    <tr>\n",
       "      <th>...</th>\n",
       "      <td>...</td>\n",
       "      <td>...</td>\n",
       "    </tr>\n",
       "    <tr>\n",
       "      <th>23687</th>\n",
       "      <td>2017-12-16</td>\n",
       "      <td>5</td>\n",
       "    </tr>\n",
       "    <tr>\n",
       "      <th>23690</th>\n",
       "      <td>2018-07-19</td>\n",
       "      <td>3</td>\n",
       "    </tr>\n",
       "    <tr>\n",
       "      <th>23692</th>\n",
       "      <td>2017-07-07</td>\n",
       "      <td>4</td>\n",
       "    </tr>\n",
       "    <tr>\n",
       "      <th>23693</th>\n",
       "      <td>2016-08-05</td>\n",
       "      <td>4</td>\n",
       "    </tr>\n",
       "    <tr>\n",
       "      <th>23695</th>\n",
       "      <td>2018-01-15</td>\n",
       "      <td>0</td>\n",
       "    </tr>\n",
       "  </tbody>\n",
       "</table>\n",
       "<p>14892 rows × 2 columns</p>\n",
       "</div>"
      ],
      "text/plain": [
       "      first_day_exposition  day_exp\n",
       "1               2018-12-04        1\n",
       "5               2018-09-10        0\n",
       "6               2017-11-02        3\n",
       "8               2018-05-23        2\n",
       "9               2017-02-26        6\n",
       "...                    ...      ...\n",
       "23687           2017-12-16        5\n",
       "23690           2018-07-19        3\n",
       "23692           2017-07-07        4\n",
       "23693           2016-08-05        4\n",
       "23695           2018-01-15        0\n",
       "\n",
       "[14892 rows x 2 columns]"
      ]
     },
     "execution_count": 32,
     "metadata": {},
     "output_type": "execute_result"
    }
   ],
   "source": [
    "#день недели публикации объявления\n",
    "data['day_exp'] = data['first_day_exposition'].dt.dayofweek\n",
    "data[['first_day_exposition', 'day_exp']]"
   ]
  },
  {
   "cell_type": "code",
   "execution_count": 33,
   "metadata": {},
   "outputs": [
    {
     "data": {
      "text/html": [
       "<div>\n",
       "<style scoped>\n",
       "    .dataframe tbody tr th:only-of-type {\n",
       "        vertical-align: middle;\n",
       "    }\n",
       "\n",
       "    .dataframe tbody tr th {\n",
       "        vertical-align: top;\n",
       "    }\n",
       "\n",
       "    .dataframe thead th {\n",
       "        text-align: right;\n",
       "    }\n",
       "</style>\n",
       "<table border=\"1\" class=\"dataframe\">\n",
       "  <thead>\n",
       "    <tr style=\"text-align: right;\">\n",
       "      <th></th>\n",
       "      <th>first_day_exposition</th>\n",
       "      <th>month_exp</th>\n",
       "    </tr>\n",
       "  </thead>\n",
       "  <tbody>\n",
       "    <tr>\n",
       "      <th>1</th>\n",
       "      <td>2018-12-04</td>\n",
       "      <td>12</td>\n",
       "    </tr>\n",
       "    <tr>\n",
       "      <th>5</th>\n",
       "      <td>2018-09-10</td>\n",
       "      <td>9</td>\n",
       "    </tr>\n",
       "    <tr>\n",
       "      <th>6</th>\n",
       "      <td>2017-11-02</td>\n",
       "      <td>11</td>\n",
       "    </tr>\n",
       "    <tr>\n",
       "      <th>8</th>\n",
       "      <td>2018-05-23</td>\n",
       "      <td>5</td>\n",
       "    </tr>\n",
       "    <tr>\n",
       "      <th>9</th>\n",
       "      <td>2017-02-26</td>\n",
       "      <td>2</td>\n",
       "    </tr>\n",
       "    <tr>\n",
       "      <th>...</th>\n",
       "      <td>...</td>\n",
       "      <td>...</td>\n",
       "    </tr>\n",
       "    <tr>\n",
       "      <th>23687</th>\n",
       "      <td>2017-12-16</td>\n",
       "      <td>12</td>\n",
       "    </tr>\n",
       "    <tr>\n",
       "      <th>23690</th>\n",
       "      <td>2018-07-19</td>\n",
       "      <td>7</td>\n",
       "    </tr>\n",
       "    <tr>\n",
       "      <th>23692</th>\n",
       "      <td>2017-07-07</td>\n",
       "      <td>7</td>\n",
       "    </tr>\n",
       "    <tr>\n",
       "      <th>23693</th>\n",
       "      <td>2016-08-05</td>\n",
       "      <td>8</td>\n",
       "    </tr>\n",
       "    <tr>\n",
       "      <th>23695</th>\n",
       "      <td>2018-01-15</td>\n",
       "      <td>1</td>\n",
       "    </tr>\n",
       "  </tbody>\n",
       "</table>\n",
       "<p>14892 rows × 2 columns</p>\n",
       "</div>"
      ],
      "text/plain": [
       "      first_day_exposition  month_exp\n",
       "1               2018-12-04         12\n",
       "5               2018-09-10          9\n",
       "6               2017-11-02         11\n",
       "8               2018-05-23          5\n",
       "9               2017-02-26          2\n",
       "...                    ...        ...\n",
       "23687           2017-12-16         12\n",
       "23690           2018-07-19          7\n",
       "23692           2017-07-07          7\n",
       "23693           2016-08-05          8\n",
       "23695           2018-01-15          1\n",
       "\n",
       "[14892 rows x 2 columns]"
      ]
     },
     "execution_count": 33,
     "metadata": {},
     "output_type": "execute_result"
    }
   ],
   "source": [
    "#месяц публикации объявления\n",
    "data['month_exp'] = data['first_day_exposition'].dt.month\n",
    "data[['first_day_exposition', 'month_exp']]"
   ]
  },
  {
   "cell_type": "code",
   "execution_count": 34,
   "metadata": {},
   "outputs": [
    {
     "data": {
      "text/html": [
       "<div>\n",
       "<style scoped>\n",
       "    .dataframe tbody tr th:only-of-type {\n",
       "        vertical-align: middle;\n",
       "    }\n",
       "\n",
       "    .dataframe tbody tr th {\n",
       "        vertical-align: top;\n",
       "    }\n",
       "\n",
       "    .dataframe thead th {\n",
       "        text-align: right;\n",
       "    }\n",
       "</style>\n",
       "<table border=\"1\" class=\"dataframe\">\n",
       "  <thead>\n",
       "    <tr style=\"text-align: right;\">\n",
       "      <th></th>\n",
       "      <th>first_day_exposition</th>\n",
       "      <th>year_exp</th>\n",
       "    </tr>\n",
       "  </thead>\n",
       "  <tbody>\n",
       "    <tr>\n",
       "      <th>1</th>\n",
       "      <td>2018-12-04</td>\n",
       "      <td>2018</td>\n",
       "    </tr>\n",
       "    <tr>\n",
       "      <th>5</th>\n",
       "      <td>2018-09-10</td>\n",
       "      <td>2018</td>\n",
       "    </tr>\n",
       "    <tr>\n",
       "      <th>6</th>\n",
       "      <td>2017-11-02</td>\n",
       "      <td>2017</td>\n",
       "    </tr>\n",
       "    <tr>\n",
       "      <th>8</th>\n",
       "      <td>2018-05-23</td>\n",
       "      <td>2018</td>\n",
       "    </tr>\n",
       "    <tr>\n",
       "      <th>9</th>\n",
       "      <td>2017-02-26</td>\n",
       "      <td>2017</td>\n",
       "    </tr>\n",
       "    <tr>\n",
       "      <th>...</th>\n",
       "      <td>...</td>\n",
       "      <td>...</td>\n",
       "    </tr>\n",
       "    <tr>\n",
       "      <th>23687</th>\n",
       "      <td>2017-12-16</td>\n",
       "      <td>2017</td>\n",
       "    </tr>\n",
       "    <tr>\n",
       "      <th>23690</th>\n",
       "      <td>2018-07-19</td>\n",
       "      <td>2018</td>\n",
       "    </tr>\n",
       "    <tr>\n",
       "      <th>23692</th>\n",
       "      <td>2017-07-07</td>\n",
       "      <td>2017</td>\n",
       "    </tr>\n",
       "    <tr>\n",
       "      <th>23693</th>\n",
       "      <td>2016-08-05</td>\n",
       "      <td>2016</td>\n",
       "    </tr>\n",
       "    <tr>\n",
       "      <th>23695</th>\n",
       "      <td>2018-01-15</td>\n",
       "      <td>2018</td>\n",
       "    </tr>\n",
       "  </tbody>\n",
       "</table>\n",
       "<p>14892 rows × 2 columns</p>\n",
       "</div>"
      ],
      "text/plain": [
       "      first_day_exposition  year_exp\n",
       "1               2018-12-04      2018\n",
       "5               2018-09-10      2018\n",
       "6               2017-11-02      2017\n",
       "8               2018-05-23      2018\n",
       "9               2017-02-26      2017\n",
       "...                    ...       ...\n",
       "23687           2017-12-16      2017\n",
       "23690           2018-07-19      2018\n",
       "23692           2017-07-07      2017\n",
       "23693           2016-08-05      2016\n",
       "23695           2018-01-15      2018\n",
       "\n",
       "[14892 rows x 2 columns]"
      ]
     },
     "execution_count": 34,
     "metadata": {},
     "output_type": "execute_result"
    }
   ],
   "source": [
    "#год публикации объявления\n",
    "data['year_exp'] = data['first_day_exposition'].dt.year\n",
    "data[['first_day_exposition', 'year_exp']]"
   ]
  },
  {
   "cell_type": "code",
   "execution_count": 35,
   "metadata": {},
   "outputs": [],
   "source": [
    "def categorize_floors(floor):\n",
    "    if floor['floor'] == 1:\n",
    "        return 'первый'\n",
    "    elif floor['floor'] == floor['floors_total']: \n",
    "        return 'последний'\n",
    "    else:\n",
    "        return 'другой'"
   ]
  },
  {
   "cell_type": "code",
   "execution_count": 36,
   "metadata": {},
   "outputs": [],
   "source": [
    "data['floor_type'] = data.apply(categorize_floors, axis = 1)"
   ]
  },
  {
   "cell_type": "code",
   "execution_count": 37,
   "metadata": {},
   "outputs": [],
   "source": [
    "#расстояние в км до центра города\n",
    "data['cityCenters_nearest_km'] = data['cityCenters_nearest'].astype('int') / 1000"
   ]
  },
  {
   "cell_type": "markdown",
   "metadata": {},
   "source": [
    "### Промежуточный вывод\n",
    "В таблицу добавлены новые столбцы, данные из которых можно использовать на стадии исследовательского анализа данных."
   ]
  },
  {
   "cell_type": "markdown",
   "metadata": {},
   "source": [
    "### 4. Проведите исследовательский анализ данных"
   ]
  },
  {
   "cell_type": "markdown",
   "metadata": {},
   "source": [
    "### Гистограммы"
   ]
  },
  {
   "cell_type": "code",
   "execution_count": 38,
   "metadata": {},
   "outputs": [
    {
     "data": {
      "text/plain": [
       "<AxesSubplot:>"
      ]
     },
     "execution_count": 38,
     "metadata": {},
     "output_type": "execute_result"
    },
    {
     "data": {
      "image/png": "[encoded data removed]",
      "text/plain": [
       "<Figure size 432x288 with 1 Axes>"
      ]
     },
     "metadata": {
      "needs_background": "light"
     },
     "output_type": "display_data"
    }
   ],
   "source": [
    "data['total_area'].hist(bins=100, range=(0,120))"
   ]
  },
  {
   "cell_type": "code",
   "execution_count": 39,
   "metadata": {},
   "outputs": [
    {
     "data": {
      "text/plain": [
       "<AxesSubplot:>"
      ]
     },
     "execution_count": 39,
     "metadata": {},
     "output_type": "execute_result"
    },
    {
     "data": {
      "image/png": "[encoded data removed]",
      "text/plain": [
       "<Figure size 432x288 with 1 Axes>"
      ]
     },
     "metadata": {
      "needs_background": "light"
     },
     "output_type": "display_data"
    }
   ],
   "source": [
    "data['living_area'].hist(bins=50, range=(0,80))"
   ]
  },
  {
   "cell_type": "code",
   "execution_count": 40,
   "metadata": {},
   "outputs": [
    {
     "data": {
      "text/plain": [
       "<AxesSubplot:>"
      ]
     },
     "execution_count": 40,
     "metadata": {},
     "output_type": "execute_result"
    },
    {
     "data": {
      "image/png": "[encoded data removed]",
      "text/plain": [
       "<Figure size 432x288 with 1 Axes>"
      ]
     },
     "metadata": {
      "needs_background": "light"
     },
     "output_type": "display_data"
    }
   ],
   "source": [
    "data['kitchen_area'].hist(bins=100, range=(0,30))"
   ]
  },
  {
   "cell_type": "code",
   "execution_count": 41,
   "metadata": {},
   "outputs": [
    {
     "data": {
      "image/png": "[encoded data removed]",
      "text/plain": [
       "<Figure size 432x288 with 1 Axes>"
      ]
     },
     "metadata": {
      "needs_background": "light"
     },
     "output_type": "display_data"
    }
   ],
   "source": [
    "data['last_price'].hist(bins=100, range=(0,9000000))\n",
    "plt.ticklabel_format(axis = 'x', style = 'plain')"
   ]
  },
  {
   "cell_type": "code",
   "execution_count": 42,
   "metadata": {},
   "outputs": [
    {
     "data": {
      "text/plain": [
       "<AxesSubplot:>"
      ]
     },
     "execution_count": 42,
     "metadata": {},
     "output_type": "execute_result"
    },
    {
     "data": {
      "image/png": "[encoded data removed]",
      "text/plain": [
       "<Figure size 432x288 with 1 Axes>"
      ]
     },
     "metadata": {
      "needs_background": "light"
     },
     "output_type": "display_data"
    }
   ],
   "source": [
    "data['rooms'].hist(bins=5, range=(0,5))"
   ]
  },
  {
   "cell_type": "code",
   "execution_count": 43,
   "metadata": {},
   "outputs": [
    {
     "data": {
      "text/plain": [
       "<AxesSubplot:>"
      ]
     },
     "execution_count": 43,
     "metadata": {},
     "output_type": "execute_result"
    },
    {
     "data": {
      "image/png": "[encoded data removed]",
      "text/plain": [
       "<Figure size 432x288 with 1 Axes>"
      ]
     },
     "metadata": {
      "needs_background": "light"
     },
     "output_type": "display_data"
    }
   ],
   "source": [
    "data['ceiling_height'].hist(bins=10, range=(2.2,3))"
   ]
  },
  {
   "cell_type": "code",
   "execution_count": 44,
   "metadata": {},
   "outputs": [
    {
     "data": {
      "text/plain": [
       "<AxesSubplot:>"
      ]
     },
     "execution_count": 44,
     "metadata": {},
     "output_type": "execute_result"
    },
    {
     "data": {
      "image/png": "[encoded data removed]",
      "text/plain": [
       "<Figure size 432x288 with 1 Axes>"
      ]
     },
     "metadata": {
      "needs_background": "light"
     },
     "output_type": "display_data"
    }
   ],
   "source": [
    "data['floor'].hist(bins=10, range=(1,21))"
   ]
  },
  {
   "cell_type": "code",
   "execution_count": 45,
   "metadata": {},
   "outputs": [
    {
     "data": {
      "text/plain": [
       "<AxesSubplot:>"
      ]
     },
     "execution_count": 45,
     "metadata": {},
     "output_type": "execute_result"
    },
    {
     "data": {
      "image/png": "[encoded data removed]",
      "text/plain": [
       "<Figure size 432x288 with 1 Axes>"
      ]
     },
     "metadata": {
      "needs_background": "light"
     },
     "output_type": "display_data"
    }
   ],
   "source": [
    "data['floor_type'].hist(bins=5)"
   ]
  },
  {
   "cell_type": "code",
   "execution_count": 46,
   "metadata": {},
   "outputs": [
    {
     "data": {
      "text/plain": [
       "<AxesSubplot:>"
      ]
     },
     "execution_count": 46,
     "metadata": {},
     "output_type": "execute_result"
    },
    {
     "data": {
      "image/png": "[encoded data removed]",
      "text/plain": [
       "<Figure size 432x288 with 1 Axes>"
      ]
     },
     "metadata": {
      "needs_background": "light"
     },
     "output_type": "display_data"
    }
   ],
   "source": [
    "data['floors_total'].hist(bins=5, range=(0,21))"
   ]
  },
  {
   "cell_type": "code",
   "execution_count": 47,
   "metadata": {},
   "outputs": [
    {
     "data": {
      "text/plain": [
       "<AxesSubplot:>"
      ]
     },
     "execution_count": 47,
     "metadata": {},
     "output_type": "execute_result"
    },
    {
     "data": {
      "image/png": "[encoded data removed]",
      "text/plain": [
       "<Figure size 432x288 with 1 Axes>"
      ]
     },
     "metadata": {
      "needs_background": "light"
     },
     "output_type": "display_data"
    }
   ],
   "source": [
    "data['cityCenters_nearest'].hist(bins=50, range=(0,50000))"
   ]
  },
  {
   "cell_type": "code",
   "execution_count": 48,
   "metadata": {},
   "outputs": [
    {
     "data": {
      "text/plain": [
       "<AxesSubplot:>"
      ]
     },
     "execution_count": 48,
     "metadata": {},
     "output_type": "execute_result"
    },
    {
     "data": {
      "image/png": "[encoded data removed]",
      "text/plain": [
       "<Figure size 432x288 with 1 Axes>"
      ]
     },
     "metadata": {
      "needs_background": "light"
     },
     "output_type": "display_data"
    }
   ],
   "source": [
    "data['airports_nearest'].hist(bins=50, range=(5000,50000))"
   ]
  },
  {
   "cell_type": "code",
   "execution_count": 49,
   "metadata": {},
   "outputs": [
    {
     "data": {
      "text/plain": [
       "<AxesSubplot:>"
      ]
     },
     "execution_count": 49,
     "metadata": {},
     "output_type": "execute_result"
    },
    {
     "data": {
      "image/png": "[encoded data removed]",
      "text/plain": [
       "<Figure size 432x288 with 1 Axes>"
      ]
     },
     "metadata": {
      "needs_background": "light"
     },
     "output_type": "display_data"
    }
   ],
   "source": [
    "data['parks_nearest'].hist(bins=5, range=(0,1000))"
   ]
  },
  {
   "cell_type": "code",
   "execution_count": 50,
   "metadata": {
    "scrolled": true
   },
   "outputs": [
    {
     "data": {
      "text/plain": [
       "<AxesSubplot:>"
      ]
     },
     "execution_count": 50,
     "metadata": {},
     "output_type": "execute_result"
    },
    {
     "data": {
      "image/png": "[encoded data removed]",
      "text/plain": [
       "<Figure size 432x288 with 1 Axes>"
      ]
     },
     "metadata": {
      "needs_background": "light"
     },
     "output_type": "display_data"
    }
   ],
   "source": [
    "data['day_exp'].hist(bins=5, range=(0,7))"
   ]
  },
  {
   "cell_type": "code",
   "execution_count": 51,
   "metadata": {},
   "outputs": [
    {
     "data": {
      "text/plain": [
       "<AxesSubplot:>"
      ]
     },
     "execution_count": 51,
     "metadata": {},
     "output_type": "execute_result"
    },
    {
     "data": {
      "image/png": "[encoded data removed]",
      "text/plain": [
       "<Figure size 432x288 with 1 Axes>"
      ]
     },
     "metadata": {
      "needs_background": "light"
     },
     "output_type": "display_data"
    }
   ],
   "source": [
    "data['month_exp'].hist(bins=5, range=(0,12))"
   ]
  },
  {
   "cell_type": "markdown",
   "metadata": {},
   "source": [
    "### Как быстро продавались квартиры"
   ]
  },
  {
   "cell_type": "code",
   "execution_count": 52,
   "metadata": {},
   "outputs": [
    {
     "data": {
      "text/plain": [
       "<AxesSubplot:>"
      ]
     },
     "execution_count": 52,
     "metadata": {},
     "output_type": "execute_result"
    },
    {
     "data": {
      "image/png": "[encoded data removed]",
      "text/plain": [
       "<Figure size 432x288 with 1 Axes>"
      ]
     },
     "metadata": {
      "needs_background": "light"
     },
     "output_type": "display_data"
    }
   ],
   "source": [
    "data['days_exposition'].hist(bins=100)"
   ]
  },
  {
   "cell_type": "code",
   "execution_count": 53,
   "metadata": {},
   "outputs": [
    {
     "data": {
      "text/plain": [
       "116.48200376040828"
      ]
     },
     "execution_count": 53,
     "metadata": {},
     "output_type": "execute_result"
    }
   ],
   "source": [
    "data['days_exposition'].mean()"
   ]
  },
  {
   "cell_type": "code",
   "execution_count": 54,
   "metadata": {},
   "outputs": [
    {
     "data": {
      "text/plain": [
       "74.0"
      ]
     },
     "execution_count": 54,
     "metadata": {},
     "output_type": "execute_result"
    }
   ],
   "source": [
    "data['days_exposition'].median()"
   ]
  },
  {
   "cell_type": "markdown",
   "metadata": {},
   "source": [
    "В среднем, продажа квартиры занимает 117 дней. \n",
    "Необычайно быстрыми можно считать продажи быстрее, чем за 74 дня (первый квартиль), необычано медленными - дольше 168 дней (третий квартиль)."
   ]
  },
  {
   "cell_type": "markdown",
   "metadata": {},
   "source": [
    "### Факторы, влияющие на стоимость объекта"
   ]
  },
  {
   "cell_type": "code",
   "execution_count": 55,
   "metadata": {},
   "outputs": [
    {
     "data": {
      "text/html": [
       "<div>\n",
       "<style scoped>\n",
       "    .dataframe tbody tr th:only-of-type {\n",
       "        vertical-align: middle;\n",
       "    }\n",
       "\n",
       "    .dataframe tbody tr th {\n",
       "        vertical-align: top;\n",
       "    }\n",
       "\n",
       "    .dataframe thead tr th {\n",
       "        text-align: left;\n",
       "    }\n",
       "\n",
       "    .dataframe thead tr:last-of-type th {\n",
       "        text-align: right;\n",
       "    }\n",
       "</style>\n",
       "<table border=\"1\" class=\"dataframe\">\n",
       "  <thead>\n",
       "    <tr>\n",
       "      <th></th>\n",
       "      <th colspan=\"3\" halign=\"left\">last_price</th>\n",
       "    </tr>\n",
       "    <tr>\n",
       "      <th></th>\n",
       "      <th>count</th>\n",
       "      <th>mean</th>\n",
       "      <th>sum</th>\n",
       "    </tr>\n",
       "    <tr>\n",
       "      <th>total_area</th>\n",
       "      <th></th>\n",
       "      <th></th>\n",
       "      <th></th>\n",
       "    </tr>\n",
       "  </thead>\n",
       "  <tbody>\n",
       "    <tr>\n",
       "      <th>12.0</th>\n",
       "      <td>1</td>\n",
       "      <td>2400000.0</td>\n",
       "      <td>2400000.0</td>\n",
       "    </tr>\n",
       "    <tr>\n",
       "      <th>13.0</th>\n",
       "      <td>2</td>\n",
       "      <td>2600000.0</td>\n",
       "      <td>5200000.0</td>\n",
       "    </tr>\n",
       "    <tr>\n",
       "      <th>13.2</th>\n",
       "      <td>1</td>\n",
       "      <td>1686000.0</td>\n",
       "      <td>1686000.0</td>\n",
       "    </tr>\n",
       "    <tr>\n",
       "      <th>14.0</th>\n",
       "      <td>1</td>\n",
       "      <td>1190000.0</td>\n",
       "      <td>1190000.0</td>\n",
       "    </tr>\n",
       "    <tr>\n",
       "      <th>15.0</th>\n",
       "      <td>2</td>\n",
       "      <td>1725000.0</td>\n",
       "      <td>3450000.0</td>\n",
       "    </tr>\n",
       "    <tr>\n",
       "      <th>...</th>\n",
       "      <td>...</td>\n",
       "      <td>...</td>\n",
       "      <td>...</td>\n",
       "    </tr>\n",
       "    <tr>\n",
       "      <th>114.0</th>\n",
       "      <td>1</td>\n",
       "      <td>6490000.0</td>\n",
       "      <td>6490000.0</td>\n",
       "    </tr>\n",
       "    <tr>\n",
       "      <th>115.0</th>\n",
       "      <td>2</td>\n",
       "      <td>6720000.0</td>\n",
       "      <td>13440000.0</td>\n",
       "    </tr>\n",
       "    <tr>\n",
       "      <th>116.0</th>\n",
       "      <td>2</td>\n",
       "      <td>8050000.0</td>\n",
       "      <td>16100000.0</td>\n",
       "    </tr>\n",
       "    <tr>\n",
       "      <th>116.3</th>\n",
       "      <td>1</td>\n",
       "      <td>6500000.0</td>\n",
       "      <td>6500000.0</td>\n",
       "    </tr>\n",
       "    <tr>\n",
       "      <th>117.3</th>\n",
       "      <td>1</td>\n",
       "      <td>1800000.0</td>\n",
       "      <td>1800000.0</td>\n",
       "    </tr>\n",
       "  </tbody>\n",
       "</table>\n",
       "<p>1288 rows × 3 columns</p>\n",
       "</div>"
      ],
      "text/plain": [
       "           last_price                       \n",
       "                count       mean         sum\n",
       "total_area                                  \n",
       "12.0                1  2400000.0   2400000.0\n",
       "13.0                2  2600000.0   5200000.0\n",
       "13.2                1  1686000.0   1686000.0\n",
       "14.0                1  1190000.0   1190000.0\n",
       "15.0                2  1725000.0   3450000.0\n",
       "...               ...        ...         ...\n",
       "114.0               1  6490000.0   6490000.0\n",
       "115.0               2  6720000.0  13440000.0\n",
       "116.0               2  8050000.0  16100000.0\n",
       "116.3               1  6500000.0   6500000.0\n",
       "117.3               1  1800000.0   1800000.0\n",
       "\n",
       "[1288 rows x 3 columns]"
      ]
     },
     "execution_count": 55,
     "metadata": {},
     "output_type": "execute_result"
    }
   ],
   "source": [
    "pd.pivot_table(data, index=['total_area'], values=['last_price'], aggfunc=('sum', 'count', 'mean'))"
   ]
  },
  {
   "cell_type": "code",
   "execution_count": 56,
   "metadata": {},
   "outputs": [
    {
     "data": {
      "image/png": "[encoded data removed]",
      "text/plain": [
       "<Figure size 432x288 with 1 Axes>"
      ]
     },
     "metadata": {
      "needs_background": "light"
     },
     "output_type": "display_data"
    }
   ],
   "source": [
    "pd.pivot_table(data, index=['total_area'], values=['last_price'], aggfunc=('mean')).plot()\n",
    "plt.ticklabel_format(axis = 'x', style = 'plain')"
   ]
  },
  {
   "cell_type": "code",
   "execution_count": 57,
   "metadata": {},
   "outputs": [
    {
     "data": {
      "text/html": [
       "<div>\n",
       "<style scoped>\n",
       "    .dataframe tbody tr th:only-of-type {\n",
       "        vertical-align: middle;\n",
       "    }\n",
       "\n",
       "    .dataframe tbody tr th {\n",
       "        vertical-align: top;\n",
       "    }\n",
       "\n",
       "    .dataframe thead tr th {\n",
       "        text-align: left;\n",
       "    }\n",
       "\n",
       "    .dataframe thead tr:last-of-type th {\n",
       "        text-align: right;\n",
       "    }\n",
       "</style>\n",
       "<table border=\"1\" class=\"dataframe\">\n",
       "  <thead>\n",
       "    <tr>\n",
       "      <th></th>\n",
       "      <th colspan=\"3\" halign=\"left\">last_price</th>\n",
       "    </tr>\n",
       "    <tr>\n",
       "      <th></th>\n",
       "      <th>count</th>\n",
       "      <th>mean</th>\n",
       "      <th>sum</th>\n",
       "    </tr>\n",
       "    <tr>\n",
       "      <th>living_area</th>\n",
       "      <th></th>\n",
       "      <th></th>\n",
       "      <th></th>\n",
       "    </tr>\n",
       "  </thead>\n",
       "  <tbody>\n",
       "    <tr>\n",
       "      <th>2.0</th>\n",
       "      <td>1</td>\n",
       "      <td>2330000.0</td>\n",
       "      <td>2330000.0</td>\n",
       "    </tr>\n",
       "    <tr>\n",
       "      <th>3.0</th>\n",
       "      <td>1</td>\n",
       "      <td>4440000.0</td>\n",
       "      <td>4440000.0</td>\n",
       "    </tr>\n",
       "    <tr>\n",
       "      <th>5.0</th>\n",
       "      <td>1</td>\n",
       "      <td>2680000.0</td>\n",
       "      <td>2680000.0</td>\n",
       "    </tr>\n",
       "    <tr>\n",
       "      <th>5.4</th>\n",
       "      <td>1</td>\n",
       "      <td>6100000.0</td>\n",
       "      <td>6100000.0</td>\n",
       "    </tr>\n",
       "    <tr>\n",
       "      <th>6.0</th>\n",
       "      <td>1</td>\n",
       "      <td>3799000.0</td>\n",
       "      <td>3799000.0</td>\n",
       "    </tr>\n",
       "    <tr>\n",
       "      <th>...</th>\n",
       "      <td>...</td>\n",
       "      <td>...</td>\n",
       "      <td>...</td>\n",
       "    </tr>\n",
       "    <tr>\n",
       "      <th>71.5</th>\n",
       "      <td>1</td>\n",
       "      <td>6750000.0</td>\n",
       "      <td>6750000.0</td>\n",
       "    </tr>\n",
       "    <tr>\n",
       "      <th>72.2</th>\n",
       "      <td>1</td>\n",
       "      <td>6400000.0</td>\n",
       "      <td>6400000.0</td>\n",
       "    </tr>\n",
       "    <tr>\n",
       "      <th>73.2</th>\n",
       "      <td>1</td>\n",
       "      <td>6500000.0</td>\n",
       "      <td>6500000.0</td>\n",
       "    </tr>\n",
       "    <tr>\n",
       "      <th>74.6</th>\n",
       "      <td>1</td>\n",
       "      <td>7400000.0</td>\n",
       "      <td>7400000.0</td>\n",
       "    </tr>\n",
       "    <tr>\n",
       "      <th>74.8</th>\n",
       "      <td>1</td>\n",
       "      <td>7580000.0</td>\n",
       "      <td>7580000.0</td>\n",
       "    </tr>\n",
       "  </tbody>\n",
       "</table>\n",
       "<p>1015 rows × 3 columns</p>\n",
       "</div>"
      ],
      "text/plain": [
       "            last_price                      \n",
       "                 count       mean        sum\n",
       "living_area                                 \n",
       "2.0                  1  2330000.0  2330000.0\n",
       "3.0                  1  4440000.0  4440000.0\n",
       "5.0                  1  2680000.0  2680000.0\n",
       "5.4                  1  6100000.0  6100000.0\n",
       "6.0                  1  3799000.0  3799000.0\n",
       "...                ...        ...        ...\n",
       "71.5                 1  6750000.0  6750000.0\n",
       "72.2                 1  6400000.0  6400000.0\n",
       "73.2                 1  6500000.0  6500000.0\n",
       "74.6                 1  7400000.0  7400000.0\n",
       "74.8                 1  7580000.0  7580000.0\n",
       "\n",
       "[1015 rows x 3 columns]"
      ]
     },
     "execution_count": 57,
     "metadata": {},
     "output_type": "execute_result"
    }
   ],
   "source": [
    "pd.pivot_table(data, index=['living_area'], values=['last_price'], aggfunc=('sum', 'count', 'mean'))"
   ]
  },
  {
   "cell_type": "code",
   "execution_count": 58,
   "metadata": {},
   "outputs": [
    {
     "data": {
      "text/plain": [
       "<AxesSubplot:xlabel='living_area'>"
      ]
     },
     "execution_count": 58,
     "metadata": {},
     "output_type": "execute_result"
    },
    {
     "data": {
      "image/png": "[encoded data removed]",
      "text/plain": [
       "<Figure size 432x288 with 1 Axes>"
      ]
     },
     "metadata": {
      "needs_background": "light"
     },
     "output_type": "display_data"
    }
   ],
   "source": [
    "pd.pivot_table(data, index=['living_area'], values=['last_price'], aggfunc=('mean')).plot()"
   ]
  },
  {
   "cell_type": "code",
   "execution_count": 59,
   "metadata": {},
   "outputs": [
    {
     "data": {
      "text/html": [
       "<div>\n",
       "<style scoped>\n",
       "    .dataframe tbody tr th:only-of-type {\n",
       "        vertical-align: middle;\n",
       "    }\n",
       "\n",
       "    .dataframe tbody tr th {\n",
       "        vertical-align: top;\n",
       "    }\n",
       "\n",
       "    .dataframe thead tr th {\n",
       "        text-align: left;\n",
       "    }\n",
       "\n",
       "    .dataframe thead tr:last-of-type th {\n",
       "        text-align: right;\n",
       "    }\n",
       "</style>\n",
       "<table border=\"1\" class=\"dataframe\">\n",
       "  <thead>\n",
       "    <tr>\n",
       "      <th></th>\n",
       "      <th colspan=\"3\" halign=\"left\">last_price</th>\n",
       "    </tr>\n",
       "    <tr>\n",
       "      <th></th>\n",
       "      <th>count</th>\n",
       "      <th>mean</th>\n",
       "      <th>sum</th>\n",
       "    </tr>\n",
       "    <tr>\n",
       "      <th>kitchen_area</th>\n",
       "      <th></th>\n",
       "      <th></th>\n",
       "      <th></th>\n",
       "    </tr>\n",
       "  </thead>\n",
       "  <tbody>\n",
       "    <tr>\n",
       "      <th>0.00</th>\n",
       "      <td>1603</td>\n",
       "      <td>3.783591e+06</td>\n",
       "      <td>6.065097e+09</td>\n",
       "    </tr>\n",
       "    <tr>\n",
       "      <th>2.00</th>\n",
       "      <td>6</td>\n",
       "      <td>2.775000e+06</td>\n",
       "      <td>1.665000e+07</td>\n",
       "    </tr>\n",
       "    <tr>\n",
       "      <th>2.30</th>\n",
       "      <td>1</td>\n",
       "      <td>2.940000e+06</td>\n",
       "      <td>2.940000e+06</td>\n",
       "    </tr>\n",
       "    <tr>\n",
       "      <th>2.40</th>\n",
       "      <td>1</td>\n",
       "      <td>2.200000e+06</td>\n",
       "      <td>2.200000e+06</td>\n",
       "    </tr>\n",
       "    <tr>\n",
       "      <th>2.89</th>\n",
       "      <td>1</td>\n",
       "      <td>5.967734e+06</td>\n",
       "      <td>5.967734e+06</td>\n",
       "    </tr>\n",
       "    <tr>\n",
       "      <th>...</th>\n",
       "      <td>...</td>\n",
       "      <td>...</td>\n",
       "      <td>...</td>\n",
       "    </tr>\n",
       "    <tr>\n",
       "      <th>37.78</th>\n",
       "      <td>1</td>\n",
       "      <td>6.012000e+06</td>\n",
       "      <td>6.012000e+06</td>\n",
       "    </tr>\n",
       "    <tr>\n",
       "      <th>40.50</th>\n",
       "      <td>1</td>\n",
       "      <td>1.219000e+04</td>\n",
       "      <td>1.219000e+04</td>\n",
       "    </tr>\n",
       "    <tr>\n",
       "      <th>41.00</th>\n",
       "      <td>1</td>\n",
       "      <td>4.200000e+06</td>\n",
       "      <td>4.200000e+06</td>\n",
       "    </tr>\n",
       "    <tr>\n",
       "      <th>43.20</th>\n",
       "      <td>1</td>\n",
       "      <td>3.000000e+06</td>\n",
       "      <td>3.000000e+06</td>\n",
       "    </tr>\n",
       "    <tr>\n",
       "      <th>50.00</th>\n",
       "      <td>1</td>\n",
       "      <td>5.950000e+06</td>\n",
       "      <td>5.950000e+06</td>\n",
       "    </tr>\n",
       "  </tbody>\n",
       "</table>\n",
       "<p>607 rows × 3 columns</p>\n",
       "</div>"
      ],
      "text/plain": [
       "             last_price                            \n",
       "                  count          mean           sum\n",
       "kitchen_area                                       \n",
       "0.00               1603  3.783591e+06  6.065097e+09\n",
       "2.00                  6  2.775000e+06  1.665000e+07\n",
       "2.30                  1  2.940000e+06  2.940000e+06\n",
       "2.40                  1  2.200000e+06  2.200000e+06\n",
       "2.89                  1  5.967734e+06  5.967734e+06\n",
       "...                 ...           ...           ...\n",
       "37.78                 1  6.012000e+06  6.012000e+06\n",
       "40.50                 1  1.219000e+04  1.219000e+04\n",
       "41.00                 1  4.200000e+06  4.200000e+06\n",
       "43.20                 1  3.000000e+06  3.000000e+06\n",
       "50.00                 1  5.950000e+06  5.950000e+06\n",
       "\n",
       "[607 rows x 3 columns]"
      ]
     },
     "execution_count": 59,
     "metadata": {},
     "output_type": "execute_result"
    }
   ],
   "source": [
    "pd.pivot_table(data, index=['kitchen_area'], values=['last_price'], aggfunc=('sum', 'count', 'mean'))"
   ]
  },
  {
   "cell_type": "code",
   "execution_count": 60,
   "metadata": {},
   "outputs": [
    {
     "data": {
      "image/png": "[encoded data removed]",
      "text/plain": [
       "<Figure size 432x288 with 1 Axes>"
      ]
     },
     "metadata": {
      "needs_background": "light"
     },
     "output_type": "display_data"
    }
   ],
   "source": [
    "pd.pivot_table(data, index=['kitchen_area'], values=['last_price'], aggfunc=('mean')).plot()\n",
    "plt.ticklabel_format(axis = 'x', style = 'plain')"
   ]
  },
  {
   "cell_type": "code",
   "execution_count": 61,
   "metadata": {},
   "outputs": [
    {
     "data": {
      "text/html": [
       "<div>\n",
       "<style scoped>\n",
       "    .dataframe tbody tr th:only-of-type {\n",
       "        vertical-align: middle;\n",
       "    }\n",
       "\n",
       "    .dataframe tbody tr th {\n",
       "        vertical-align: top;\n",
       "    }\n",
       "\n",
       "    .dataframe thead tr th {\n",
       "        text-align: left;\n",
       "    }\n",
       "\n",
       "    .dataframe thead tr:last-of-type th {\n",
       "        text-align: right;\n",
       "    }\n",
       "</style>\n",
       "<table border=\"1\" class=\"dataframe\">\n",
       "  <thead>\n",
       "    <tr>\n",
       "      <th></th>\n",
       "      <th colspan=\"3\" halign=\"left\">last_price</th>\n",
       "    </tr>\n",
       "    <tr>\n",
       "      <th></th>\n",
       "      <th>count</th>\n",
       "      <th>mean</th>\n",
       "      <th>sum</th>\n",
       "    </tr>\n",
       "    <tr>\n",
       "      <th>rooms</th>\n",
       "      <th></th>\n",
       "      <th></th>\n",
       "      <th></th>\n",
       "    </tr>\n",
       "  </thead>\n",
       "  <tbody>\n",
       "    <tr>\n",
       "      <th>0</th>\n",
       "      <td>162</td>\n",
       "      <td>2.846103e+06</td>\n",
       "      <td>4.610686e+08</td>\n",
       "    </tr>\n",
       "    <tr>\n",
       "      <th>1</th>\n",
       "      <td>6305</td>\n",
       "      <td>3.605271e+06</td>\n",
       "      <td>2.273123e+10</td>\n",
       "    </tr>\n",
       "    <tr>\n",
       "      <th>2</th>\n",
       "      <td>5215</td>\n",
       "      <td>4.486117e+06</td>\n",
       "      <td>2.339510e+10</td>\n",
       "    </tr>\n",
       "    <tr>\n",
       "      <th>3</th>\n",
       "      <td>2869</td>\n",
       "      <td>5.155805e+06</td>\n",
       "      <td>1.479201e+10</td>\n",
       "    </tr>\n",
       "    <tr>\n",
       "      <th>4</th>\n",
       "      <td>328</td>\n",
       "      <td>5.276219e+06</td>\n",
       "      <td>1.730600e+09</td>\n",
       "    </tr>\n",
       "    <tr>\n",
       "      <th>5</th>\n",
       "      <td>13</td>\n",
       "      <td>5.297692e+06</td>\n",
       "      <td>6.887000e+07</td>\n",
       "    </tr>\n",
       "  </tbody>\n",
       "</table>\n",
       "</div>"
      ],
      "text/plain": [
       "      last_price                            \n",
       "           count          mean           sum\n",
       "rooms                                       \n",
       "0            162  2.846103e+06  4.610686e+08\n",
       "1           6305  3.605271e+06  2.273123e+10\n",
       "2           5215  4.486117e+06  2.339510e+10\n",
       "3           2869  5.155805e+06  1.479201e+10\n",
       "4            328  5.276219e+06  1.730600e+09\n",
       "5             13  5.297692e+06  6.887000e+07"
      ]
     },
     "execution_count": 61,
     "metadata": {},
     "output_type": "execute_result"
    }
   ],
   "source": [
    "pd.pivot_table(data, index=['rooms'], values=['last_price'], aggfunc=('sum', 'count', 'mean'))"
   ]
  },
  {
   "cell_type": "code",
   "execution_count": 62,
   "metadata": {},
   "outputs": [
    {
     "data": {
      "text/plain": [
       "<AxesSubplot:xlabel='rooms'>"
      ]
     },
     "execution_count": 62,
     "metadata": {},
     "output_type": "execute_result"
    },
    {
     "data": {
      "image/png": "[encoded data removed]",
      "text/plain": [
       "<Figure size 432x288 with 1 Axes>"
      ]
     },
     "metadata": {
      "needs_background": "light"
     },
     "output_type": "display_data"
    }
   ],
   "source": [
    "pd.pivot_table(data, index=['rooms'], values=['last_price'], aggfunc=('mean')).plot()"
   ]
  },
  {
   "cell_type": "code",
   "execution_count": 63,
   "metadata": {},
   "outputs": [
    {
     "data": {
      "text/html": [
       "<div>\n",
       "<style scoped>\n",
       "    .dataframe tbody tr th:only-of-type {\n",
       "        vertical-align: middle;\n",
       "    }\n",
       "\n",
       "    .dataframe tbody tr th {\n",
       "        vertical-align: top;\n",
       "    }\n",
       "\n",
       "    .dataframe thead tr th {\n",
       "        text-align: left;\n",
       "    }\n",
       "\n",
       "    .dataframe thead tr:last-of-type th {\n",
       "        text-align: right;\n",
       "    }\n",
       "</style>\n",
       "<table border=\"1\" class=\"dataframe\">\n",
       "  <thead>\n",
       "    <tr>\n",
       "      <th></th>\n",
       "      <th colspan=\"3\" halign=\"left\">last_price</th>\n",
       "    </tr>\n",
       "    <tr>\n",
       "      <th></th>\n",
       "      <th>count</th>\n",
       "      <th>mean</th>\n",
       "      <th>sum</th>\n",
       "    </tr>\n",
       "    <tr>\n",
       "      <th>floor_type</th>\n",
       "      <th></th>\n",
       "      <th></th>\n",
       "      <th></th>\n",
       "    </tr>\n",
       "  </thead>\n",
       "  <tbody>\n",
       "    <tr>\n",
       "      <th>другой</th>\n",
       "      <td>11120</td>\n",
       "      <td>4.411434e+06</td>\n",
       "      <td>4.905515e+10</td>\n",
       "    </tr>\n",
       "    <tr>\n",
       "      <th>первый</th>\n",
       "      <td>1844</td>\n",
       "      <td>3.644331e+06</td>\n",
       "      <td>6.720147e+09</td>\n",
       "    </tr>\n",
       "    <tr>\n",
       "      <th>последний</th>\n",
       "      <td>1928</td>\n",
       "      <td>3.840032e+06</td>\n",
       "      <td>7.403581e+09</td>\n",
       "    </tr>\n",
       "  </tbody>\n",
       "</table>\n",
       "</div>"
      ],
      "text/plain": [
       "           last_price                            \n",
       "                count          mean           sum\n",
       "floor_type                                       \n",
       "другой          11120  4.411434e+06  4.905515e+10\n",
       "первый           1844  3.644331e+06  6.720147e+09\n",
       "последний        1928  3.840032e+06  7.403581e+09"
      ]
     },
     "execution_count": 63,
     "metadata": {},
     "output_type": "execute_result"
    }
   ],
   "source": [
    "pd.pivot_table(data, index=['floor_type'], values=['last_price'], aggfunc=('sum', 'count', 'mean'))"
   ]
  },
  {
   "cell_type": "code",
   "execution_count": 64,
   "metadata": {},
   "outputs": [
    {
     "data": {
      "text/plain": [
       "<AxesSubplot:xlabel='floor_type'>"
      ]
     },
     "execution_count": 64,
     "metadata": {},
     "output_type": "execute_result"
    },
    {
     "data": {
      "image/png": "[encoded data removed]",
      "text/plain": [
       "<Figure size 432x288 with 1 Axes>"
      ]
     },
     "metadata": {
      "needs_background": "light"
     },
     "output_type": "display_data"
    }
   ],
   "source": [
    "pd.pivot_table(data, index=['floor_type'], values=['last_price'], aggfunc=('mean')).plot()"
   ]
  },
  {
   "cell_type": "code",
   "execution_count": 65,
   "metadata": {},
   "outputs": [
    {
     "data": {
      "text/html": [
       "<div>\n",
       "<style scoped>\n",
       "    .dataframe tbody tr th:only-of-type {\n",
       "        vertical-align: middle;\n",
       "    }\n",
       "\n",
       "    .dataframe tbody tr th {\n",
       "        vertical-align: top;\n",
       "    }\n",
       "\n",
       "    .dataframe thead tr th {\n",
       "        text-align: left;\n",
       "    }\n",
       "\n",
       "    .dataframe thead tr:last-of-type th {\n",
       "        text-align: right;\n",
       "    }\n",
       "</style>\n",
       "<table border=\"1\" class=\"dataframe\">\n",
       "  <thead>\n",
       "    <tr>\n",
       "      <th></th>\n",
       "      <th colspan=\"3\" halign=\"left\">last_price</th>\n",
       "    </tr>\n",
       "    <tr>\n",
       "      <th></th>\n",
       "      <th>count</th>\n",
       "      <th>mean</th>\n",
       "      <th>sum</th>\n",
       "    </tr>\n",
       "    <tr>\n",
       "      <th>day_exp</th>\n",
       "      <th></th>\n",
       "      <th></th>\n",
       "      <th></th>\n",
       "    </tr>\n",
       "  </thead>\n",
       "  <tbody>\n",
       "    <tr>\n",
       "      <th>0</th>\n",
       "      <td>2200</td>\n",
       "      <td>4.220029e+06</td>\n",
       "      <td>9.284064e+09</td>\n",
       "    </tr>\n",
       "    <tr>\n",
       "      <th>1</th>\n",
       "      <td>2599</td>\n",
       "      <td>4.251562e+06</td>\n",
       "      <td>1.104981e+10</td>\n",
       "    </tr>\n",
       "    <tr>\n",
       "      <th>2</th>\n",
       "      <td>2472</td>\n",
       "      <td>4.253865e+06</td>\n",
       "      <td>1.051555e+10</td>\n",
       "    </tr>\n",
       "    <tr>\n",
       "      <th>3</th>\n",
       "      <td>2685</td>\n",
       "      <td>4.256161e+06</td>\n",
       "      <td>1.142779e+10</td>\n",
       "    </tr>\n",
       "    <tr>\n",
       "      <th>4</th>\n",
       "      <td>2603</td>\n",
       "      <td>4.262837e+06</td>\n",
       "      <td>1.109617e+10</td>\n",
       "    </tr>\n",
       "    <tr>\n",
       "      <th>5</th>\n",
       "      <td>1228</td>\n",
       "      <td>4.226194e+06</td>\n",
       "      <td>5.189766e+09</td>\n",
       "    </tr>\n",
       "    <tr>\n",
       "      <th>6</th>\n",
       "      <td>1105</td>\n",
       "      <td>4.177126e+06</td>\n",
       "      <td>4.615724e+09</td>\n",
       "    </tr>\n",
       "  </tbody>\n",
       "</table>\n",
       "</div>"
      ],
      "text/plain": [
       "        last_price                            \n",
       "             count          mean           sum\n",
       "day_exp                                       \n",
       "0             2200  4.220029e+06  9.284064e+09\n",
       "1             2599  4.251562e+06  1.104981e+10\n",
       "2             2472  4.253865e+06  1.051555e+10\n",
       "3             2685  4.256161e+06  1.142779e+10\n",
       "4             2603  4.262837e+06  1.109617e+10\n",
       "5             1228  4.226194e+06  5.189766e+09\n",
       "6             1105  4.177126e+06  4.615724e+09"
      ]
     },
     "execution_count": 65,
     "metadata": {},
     "output_type": "execute_result"
    }
   ],
   "source": [
    "pd.pivot_table(data, index=['day_exp'], values=['last_price'], aggfunc=('sum', 'count', 'mean'))"
   ]
  },
  {
   "cell_type": "code",
   "execution_count": 66,
   "metadata": {},
   "outputs": [
    {
     "data": {
      "text/plain": [
       "<AxesSubplot:xlabel='day_exp'>"
      ]
     },
     "execution_count": 66,
     "metadata": {},
     "output_type": "execute_result"
    },
    {
     "data": {
      "image/png": "[encoded data removed]",
      "text/plain": [
       "<Figure size 432x288 with 1 Axes>"
      ]
     },
     "metadata": {
      "needs_background": "light"
     },
     "output_type": "display_data"
    }
   ],
   "source": [
    "pd.pivot_table(data, index=['day_exp'], values=['last_price'], aggfunc=('mean')).plot()"
   ]
  },
  {
   "cell_type": "code",
   "execution_count": 67,
   "metadata": {},
   "outputs": [
    {
     "data": {
      "text/html": [
       "<div>\n",
       "<style scoped>\n",
       "    .dataframe tbody tr th:only-of-type {\n",
       "        vertical-align: middle;\n",
       "    }\n",
       "\n",
       "    .dataframe tbody tr th {\n",
       "        vertical-align: top;\n",
       "    }\n",
       "\n",
       "    .dataframe thead tr th {\n",
       "        text-align: left;\n",
       "    }\n",
       "\n",
       "    .dataframe thead tr:last-of-type th {\n",
       "        text-align: right;\n",
       "    }\n",
       "</style>\n",
       "<table border=\"1\" class=\"dataframe\">\n",
       "  <thead>\n",
       "    <tr>\n",
       "      <th></th>\n",
       "      <th colspan=\"3\" halign=\"left\">last_price</th>\n",
       "    </tr>\n",
       "    <tr>\n",
       "      <th></th>\n",
       "      <th>count</th>\n",
       "      <th>mean</th>\n",
       "      <th>sum</th>\n",
       "    </tr>\n",
       "    <tr>\n",
       "      <th>month_exp</th>\n",
       "      <th></th>\n",
       "      <th></th>\n",
       "      <th></th>\n",
       "    </tr>\n",
       "  </thead>\n",
       "  <tbody>\n",
       "    <tr>\n",
       "      <th>1</th>\n",
       "      <td>949</td>\n",
       "      <td>4.260330e+06</td>\n",
       "      <td>4.043053e+09</td>\n",
       "    </tr>\n",
       "    <tr>\n",
       "      <th>2</th>\n",
       "      <td>1683</td>\n",
       "      <td>4.229976e+06</td>\n",
       "      <td>7.119049e+09</td>\n",
       "    </tr>\n",
       "    <tr>\n",
       "      <th>3</th>\n",
       "      <td>1413</td>\n",
       "      <td>4.256308e+06</td>\n",
       "      <td>6.014164e+09</td>\n",
       "    </tr>\n",
       "    <tr>\n",
       "      <th>4</th>\n",
       "      <td>1086</td>\n",
       "      <td>4.298145e+06</td>\n",
       "      <td>4.667785e+09</td>\n",
       "    </tr>\n",
       "    <tr>\n",
       "      <th>5</th>\n",
       "      <td>790</td>\n",
       "      <td>4.246236e+06</td>\n",
       "      <td>3.354527e+09</td>\n",
       "    </tr>\n",
       "    <tr>\n",
       "      <th>6</th>\n",
       "      <td>1220</td>\n",
       "      <td>4.136279e+06</td>\n",
       "      <td>5.046261e+09</td>\n",
       "    </tr>\n",
       "    <tr>\n",
       "      <th>7</th>\n",
       "      <td>1135</td>\n",
       "      <td>4.216896e+06</td>\n",
       "      <td>4.786176e+09</td>\n",
       "    </tr>\n",
       "    <tr>\n",
       "      <th>8</th>\n",
       "      <td>1200</td>\n",
       "      <td>4.275447e+06</td>\n",
       "      <td>5.130536e+09</td>\n",
       "    </tr>\n",
       "    <tr>\n",
       "      <th>9</th>\n",
       "      <td>1339</td>\n",
       "      <td>4.271576e+06</td>\n",
       "      <td>5.719640e+09</td>\n",
       "    </tr>\n",
       "    <tr>\n",
       "      <th>10</th>\n",
       "      <td>1468</td>\n",
       "      <td>4.224196e+06</td>\n",
       "      <td>6.201119e+09</td>\n",
       "    </tr>\n",
       "    <tr>\n",
       "      <th>11</th>\n",
       "      <td>1586</td>\n",
       "      <td>4.290810e+06</td>\n",
       "      <td>6.805225e+09</td>\n",
       "    </tr>\n",
       "    <tr>\n",
       "      <th>12</th>\n",
       "      <td>1023</td>\n",
       "      <td>4.194860e+06</td>\n",
       "      <td>4.291342e+09</td>\n",
       "    </tr>\n",
       "  </tbody>\n",
       "</table>\n",
       "</div>"
      ],
      "text/plain": [
       "          last_price                            \n",
       "               count          mean           sum\n",
       "month_exp                                       \n",
       "1                949  4.260330e+06  4.043053e+09\n",
       "2               1683  4.229976e+06  7.119049e+09\n",
       "3               1413  4.256308e+06  6.014164e+09\n",
       "4               1086  4.298145e+06  4.667785e+09\n",
       "5                790  4.246236e+06  3.354527e+09\n",
       "6               1220  4.136279e+06  5.046261e+09\n",
       "7               1135  4.216896e+06  4.786176e+09\n",
       "8               1200  4.275447e+06  5.130536e+09\n",
       "9               1339  4.271576e+06  5.719640e+09\n",
       "10              1468  4.224196e+06  6.201119e+09\n",
       "11              1586  4.290810e+06  6.805225e+09\n",
       "12              1023  4.194860e+06  4.291342e+09"
      ]
     },
     "execution_count": 67,
     "metadata": {},
     "output_type": "execute_result"
    }
   ],
   "source": [
    "pd.pivot_table(data, index=['month_exp'], values=['last_price'], aggfunc=('sum', 'count', 'mean'))"
   ]
  },
  {
   "cell_type": "code",
   "execution_count": 68,
   "metadata": {},
   "outputs": [
    {
     "data": {
      "text/plain": [
       "<AxesSubplot:xlabel='month_exp'>"
      ]
     },
     "execution_count": 68,
     "metadata": {},
     "output_type": "execute_result"
    },
    {
     "data": {
      "image/png": "[encoded data removed]",
      "text/plain": [
       "<Figure size 432x288 with 1 Axes>"
      ]
     },
     "metadata": {
      "needs_background": "light"
     },
     "output_type": "display_data"
    }
   ],
   "source": [
    "pd.pivot_table(data, index=['month_exp'], values=['last_price'], aggfunc=('mean')).plot()"
   ]
  },
  {
   "cell_type": "code",
   "execution_count": 69,
   "metadata": {},
   "outputs": [
    {
     "data": {
      "text/html": [
       "<div>\n",
       "<style scoped>\n",
       "    .dataframe tbody tr th:only-of-type {\n",
       "        vertical-align: middle;\n",
       "    }\n",
       "\n",
       "    .dataframe tbody tr th {\n",
       "        vertical-align: top;\n",
       "    }\n",
       "\n",
       "    .dataframe thead tr th {\n",
       "        text-align: left;\n",
       "    }\n",
       "\n",
       "    .dataframe thead tr:last-of-type th {\n",
       "        text-align: right;\n",
       "    }\n",
       "</style>\n",
       "<table border=\"1\" class=\"dataframe\">\n",
       "  <thead>\n",
       "    <tr>\n",
       "      <th></th>\n",
       "      <th colspan=\"3\" halign=\"left\">last_price</th>\n",
       "    </tr>\n",
       "    <tr>\n",
       "      <th></th>\n",
       "      <th>count</th>\n",
       "      <th>mean</th>\n",
       "      <th>sum</th>\n",
       "    </tr>\n",
       "    <tr>\n",
       "      <th>year_exp</th>\n",
       "      <th></th>\n",
       "      <th></th>\n",
       "      <th></th>\n",
       "    </tr>\n",
       "  </thead>\n",
       "  <tbody>\n",
       "    <tr>\n",
       "      <th>2015</th>\n",
       "      <td>304</td>\n",
       "      <td>4.496633e+06</td>\n",
       "      <td>1.366976e+09</td>\n",
       "    </tr>\n",
       "    <tr>\n",
       "      <th>2016</th>\n",
       "      <td>1589</td>\n",
       "      <td>4.254428e+06</td>\n",
       "      <td>6.760287e+09</td>\n",
       "    </tr>\n",
       "    <tr>\n",
       "      <th>2017</th>\n",
       "      <td>5961</td>\n",
       "      <td>4.197751e+06</td>\n",
       "      <td>2.502280e+10</td>\n",
       "    </tr>\n",
       "    <tr>\n",
       "      <th>2018</th>\n",
       "      <td>6152</td>\n",
       "      <td>4.221263e+06</td>\n",
       "      <td>2.596921e+10</td>\n",
       "    </tr>\n",
       "    <tr>\n",
       "      <th>2019</th>\n",
       "      <td>886</td>\n",
       "      <td>4.581950e+06</td>\n",
       "      <td>4.059608e+09</td>\n",
       "    </tr>\n",
       "  </tbody>\n",
       "</table>\n",
       "</div>"
      ],
      "text/plain": [
       "         last_price                            \n",
       "              count          mean           sum\n",
       "year_exp                                       \n",
       "2015            304  4.496633e+06  1.366976e+09\n",
       "2016           1589  4.254428e+06  6.760287e+09\n",
       "2017           5961  4.197751e+06  2.502280e+10\n",
       "2018           6152  4.221263e+06  2.596921e+10\n",
       "2019            886  4.581950e+06  4.059608e+09"
      ]
     },
     "execution_count": 69,
     "metadata": {},
     "output_type": "execute_result"
    }
   ],
   "source": [
    "pd.pivot_table(data, index=['year_exp'], values=['last_price'], aggfunc=('sum', 'count', 'mean'))"
   ]
  },
  {
   "cell_type": "code",
   "execution_count": 70,
   "metadata": {},
   "outputs": [
    {
     "data": {
      "text/plain": [
       "<AxesSubplot:xlabel='year_exp'>"
      ]
     },
     "execution_count": 70,
     "metadata": {},
     "output_type": "execute_result"
    },
    {
     "data": {
      "image/png": "[encoded data removed]",
      "text/plain": [
       "<Figure size 432x288 with 1 Axes>"
      ]
     },
     "metadata": {
      "needs_background": "light"
     },
     "output_type": "display_data"
    }
   ],
   "source": [
    "pd.pivot_table(data, index=['year_exp'], values=['last_price'], aggfunc=('mean')).plot()"
   ]
  },
  {
   "cell_type": "markdown",
   "metadata": {},
   "source": [
    "### Расчёт коэффициентов корреляции"
   ]
  },
  {
   "cell_type": "code",
   "execution_count": 71,
   "metadata": {},
   "outputs": [
    {
     "data": {
      "text/plain": [
       "0.39040984546483104"
      ]
     },
     "execution_count": 71,
     "metadata": {},
     "output_type": "execute_result"
    }
   ],
   "source": [
    "data.corr().loc['rooms','last_price']"
   ]
  },
  {
   "cell_type": "code",
   "execution_count": 72,
   "metadata": {},
   "outputs": [
    {
     "data": {
      "text/plain": [
       "0.6083867243347972"
      ]
     },
     "execution_count": 72,
     "metadata": {},
     "output_type": "execute_result"
    }
   ],
   "source": [
    "data.corr().loc['total_area','last_price']"
   ]
  },
  {
   "cell_type": "code",
   "execution_count": 73,
   "metadata": {},
   "outputs": [
    {
     "data": {
      "text/plain": [
       "0.4547450274929536"
      ]
     },
     "execution_count": 73,
     "metadata": {},
     "output_type": "execute_result"
    }
   ],
   "source": [
    "data.corr().loc['living_area','last_price']"
   ]
  },
  {
   "cell_type": "code",
   "execution_count": 74,
   "metadata": {},
   "outputs": [
    {
     "data": {
      "text/plain": [
       "0.5996409430640032"
      ]
     },
     "execution_count": 74,
     "metadata": {},
     "output_type": "execute_result"
    }
   ],
   "source": [
    "data.corr().loc['specific_price','last_price']"
   ]
  },
  {
   "cell_type": "code",
   "execution_count": 75,
   "metadata": {},
   "outputs": [
    {
     "data": {
      "text/plain": [
       "0.33796801233585744"
      ]
     },
     "execution_count": 75,
     "metadata": {},
     "output_type": "execute_result"
    }
   ],
   "source": [
    "data.corr().loc['kitchen_area','last_price']"
   ]
  },
  {
   "cell_type": "code",
   "execution_count": 76,
   "metadata": {},
   "outputs": [
    {
     "data": {
      "text/plain": [
       "-0.109540349628892"
      ]
     },
     "execution_count": 76,
     "metadata": {},
     "output_type": "execute_result"
    }
   ],
   "source": [
    "data.corr().loc['cityCenters_nearest','last_price']"
   ]
  },
  {
   "cell_type": "markdown",
   "metadata": {},
   "source": [
    "### Расчёт средней цены одного квадратного метра в 10 населённых пунктах с наибольшим числом объявлений"
   ]
  },
  {
   "cell_type": "code",
   "execution_count": 77,
   "metadata": {},
   "outputs": [
    {
     "data": {
      "text/html": [
       "<div>\n",
       "<style scoped>\n",
       "    .dataframe tbody tr th:only-of-type {\n",
       "        vertical-align: middle;\n",
       "    }\n",
       "\n",
       "    .dataframe tbody tr th {\n",
       "        vertical-align: top;\n",
       "    }\n",
       "\n",
       "    .dataframe thead th {\n",
       "        text-align: right;\n",
       "    }\n",
       "</style>\n",
       "<table border=\"1\" class=\"dataframe\">\n",
       "  <thead>\n",
       "    <tr style=\"text-align: right;\">\n",
       "      <th></th>\n",
       "      <th>Объявления</th>\n",
       "      <th>specific_price</th>\n",
       "    </tr>\n",
       "    <tr>\n",
       "      <th>locality_name</th>\n",
       "      <th></th>\n",
       "      <th></th>\n",
       "    </tr>\n",
       "  </thead>\n",
       "  <tbody>\n",
       "    <tr>\n",
       "      <th>Санкт-Петербург</th>\n",
       "      <td>9023</td>\n",
       "      <td>101647.166357</td>\n",
       "    </tr>\n",
       "    <tr>\n",
       "      <th>посёлок Мурино</th>\n",
       "      <td>502</td>\n",
       "      <td>85892.132387</td>\n",
       "    </tr>\n",
       "    <tr>\n",
       "      <th>посёлок Шушары</th>\n",
       "      <td>375</td>\n",
       "      <td>77812.421318</td>\n",
       "    </tr>\n",
       "    <tr>\n",
       "      <th>Всеволожск</th>\n",
       "      <td>285</td>\n",
       "      <td>66498.338384</td>\n",
       "    </tr>\n",
       "    <tr>\n",
       "      <th>посёлок Парголово</th>\n",
       "      <td>278</td>\n",
       "      <td>89043.425936</td>\n",
       "    </tr>\n",
       "    <tr>\n",
       "      <th>Колпино</th>\n",
       "      <td>271</td>\n",
       "      <td>74616.990274</td>\n",
       "    </tr>\n",
       "    <tr>\n",
       "      <th>деревня Кудрово</th>\n",
       "      <td>256</td>\n",
       "      <td>92307.147554</td>\n",
       "    </tr>\n",
       "    <tr>\n",
       "      <th>Гатчина</th>\n",
       "      <td>224</td>\n",
       "      <td>67839.013089</td>\n",
       "    </tr>\n",
       "    <tr>\n",
       "      <th>Пушкин</th>\n",
       "      <td>222</td>\n",
       "      <td>98058.952883</td>\n",
       "    </tr>\n",
       "    <tr>\n",
       "      <th>Выборг</th>\n",
       "      <td>174</td>\n",
       "      <td>56778.004290</td>\n",
       "    </tr>\n",
       "  </tbody>\n",
       "</table>\n",
       "</div>"
      ],
      "text/plain": [
       "                   Объявления  specific_price\n",
       "locality_name                                \n",
       "Санкт-Петербург          9023   101647.166357\n",
       "посёлок Мурино            502    85892.132387\n",
       "посёлок Шушары            375    77812.421318\n",
       "Всеволожск                285    66498.338384\n",
       "посёлок Парголово         278    89043.425936\n",
       "Колпино                   271    74616.990274\n",
       "деревня Кудрово           256    92307.147554\n",
       "Гатчина                   224    67839.013089\n",
       "Пушкин                    222    98058.952883\n",
       "Выборг                    174    56778.004290"
      ]
     },
     "execution_count": 77,
     "metadata": {},
     "output_type": "execute_result"
    }
   ],
   "source": [
    "exp = data.groupby('locality_name').agg({'total_images':'count', 'specific_price':'mean'}).rename(columns={'total_images' : 'Объявления'}).sort_values(by = 'Объявления', ascending=False).head(10)\n",
    "exp"
   ]
  },
  {
   "cell_type": "code",
   "execution_count": 78,
   "metadata": {},
   "outputs": [
    {
     "data": {
      "text/plain": [
       "<AxesSubplot:ylabel='locality_name'>"
      ]
     },
     "execution_count": 78,
     "metadata": {},
     "output_type": "execute_result"
    },
    {
     "data": {
      "image/png": "[encoded data removed]",
      "text/plain": [
       "<Figure size 432x288 with 1 Axes>"
      ]
     },
     "metadata": {
      "needs_background": "light"
     },
     "output_type": "display_data"
    }
   ],
   "source": [
    "exp['Объявления'].plot(x = 'locality_name', y = 'specific_price', kind='barh')"
   ]
  },
  {
   "cell_type": "markdown",
   "metadata": {},
   "source": [
    "Самая высокая стоимость квадратного метра в Санкт-Петербурге, самая меньшая - в Выборге."
   ]
  },
  {
   "cell_type": "markdown",
   "metadata": {},
   "source": [
    "### Cредняя цена каждого километра в Санкт-Петербурге"
   ]
  },
  {
   "cell_type": "code",
   "execution_count": 79,
   "metadata": {},
   "outputs": [
    {
     "data": {
      "text/html": [
       "<div>\n",
       "<style scoped>\n",
       "    .dataframe tbody tr th:only-of-type {\n",
       "        vertical-align: middle;\n",
       "    }\n",
       "\n",
       "    .dataframe tbody tr th {\n",
       "        vertical-align: top;\n",
       "    }\n",
       "\n",
       "    .dataframe thead th {\n",
       "        text-align: right;\n",
       "    }\n",
       "</style>\n",
       "<table border=\"1\" class=\"dataframe\">\n",
       "  <thead>\n",
       "    <tr style=\"text-align: right;\">\n",
       "      <th></th>\n",
       "      <th>specific_price</th>\n",
       "    </tr>\n",
       "    <tr>\n",
       "      <th>cityCenters_nearest_km</th>\n",
       "      <th></th>\n",
       "    </tr>\n",
       "  </thead>\n",
       "  <tbody>\n",
       "    <tr>\n",
       "      <th>29.493</th>\n",
       "      <td>56976.744186</td>\n",
       "    </tr>\n",
       "    <tr>\n",
       "      <th>28.644</th>\n",
       "      <td>78225.806452</td>\n",
       "    </tr>\n",
       "    <tr>\n",
       "      <th>28.018</th>\n",
       "      <td>86237.335580</td>\n",
       "    </tr>\n",
       "    <tr>\n",
       "      <th>28.015</th>\n",
       "      <td>68478.260870</td>\n",
       "    </tr>\n",
       "    <tr>\n",
       "      <th>27.431</th>\n",
       "      <td>70312.500000</td>\n",
       "    </tr>\n",
       "    <tr>\n",
       "      <th>...</th>\n",
       "      <td>...</td>\n",
       "    </tr>\n",
       "    <tr>\n",
       "      <th>0.769</th>\n",
       "      <td>76086.956522</td>\n",
       "    </tr>\n",
       "    <tr>\n",
       "      <th>0.743</th>\n",
       "      <td>126507.936508</td>\n",
       "    </tr>\n",
       "    <tr>\n",
       "      <th>0.472</th>\n",
       "      <td>144957.983193</td>\n",
       "    </tr>\n",
       "    <tr>\n",
       "      <th>0.467</th>\n",
       "      <td>108163.265306</td>\n",
       "    </tr>\n",
       "    <tr>\n",
       "      <th>0.399</th>\n",
       "      <td>90000.000000</td>\n",
       "    </tr>\n",
       "  </tbody>\n",
       "</table>\n",
       "<p>4245 rows × 1 columns</p>\n",
       "</div>"
      ],
      "text/plain": [
       "                        specific_price\n",
       "cityCenters_nearest_km                \n",
       "29.493                    56976.744186\n",
       "28.644                    78225.806452\n",
       "28.018                    86237.335580\n",
       "28.015                    68478.260870\n",
       "27.431                    70312.500000\n",
       "...                                ...\n",
       "0.769                     76086.956522\n",
       "0.743                    126507.936508\n",
       "0.472                    144957.983193\n",
       "0.467                    108163.265306\n",
       "0.399                     90000.000000\n",
       "\n",
       "[4245 rows x 1 columns]"
      ]
     },
     "execution_count": 79,
     "metadata": {},
     "output_type": "execute_result"
    }
   ],
   "source": [
    "data[data['locality_name'] == 'Санкт-Петербург'].groupby('cityCenters_nearest_km').agg({'specific_price': 'mean'}).sort_values(by = 'cityCenters_nearest_km', ascending = False)"
   ]
  },
  {
   "cell_type": "code",
   "execution_count": 80,
   "metadata": {},
   "outputs": [
    {
     "data": {
      "text/plain": [
       "<AxesSubplot:xlabel='cityCenters_nearest_km'>"
      ]
     },
     "execution_count": 80,
     "metadata": {},
     "output_type": "execute_result"
    },
    {
     "data": {
      "image/png": "[encoded data removed]",
      "text/plain": [
       "<Figure size 432x288 with 1 Axes>"
      ]
     },
     "metadata": {
      "needs_background": "light"
     },
     "output_type": "display_data"
    }
   ],
   "source": [
    "data[data['locality_name'] == 'Санкт-Петербург'].groupby('cityCenters_nearest_km').agg({'specific_price': 'mean'}).sort_values(by = 'cityCenters_nearest_km', ascending = False).plot()"
   ]
  },
  {
   "cell_type": "markdown",
   "metadata": {},
   "source": [
    "### Промежуточный вывод\n",
    "\n",
    "Было исследование влияние различных факторов на стоимость квартир, а так же проведены расчёты коэффициентов корреляции. <br>\n",
    "Удалось выявить зависимости:\n",
    "1. Общая площадь влияет на стоимость квартиры больше всего (корреляция ~60%).\n",
    "2. Зависимости стоимости от количества комнат, жилой площади и площади кухни имеют такой же восходящий характер, как и зависимость от общей площади, хотя каждый из этих параметров в отдельности влияет на стоимость меньше (39%, 45% и 39% соответственно).\n",
    "3. Квартиры на первом этаже стоят дешевле всех, квартиры на последнем - дороже, но самая высокая стоимость у квартир на других этажах.\n",
    "4. Объявления о продаже самых дорогих квартир выкладывали по пятницам, самых дешевых - по воскресеньям.\n",
    "5. Объявления о продаже самых дорогих квартир выкладывали в апреле и ноябре, самых дешевых - в июне.\n",
    "6. В 2016 году наблюдался спад цен на квартиры с минимумом в начале 2017 года, после наблюдается устойчивый рост, и цены 2019 года превосходят цены 2015.\n",
    "7. Корреляция между стоимостью квартир и их удалённостью от центра города/посёлка имеет отрицательное значение, так как с увеличением расстояния стоимость снижается.\n",
    "8. Из 10 городов с наибольшим количеством объявлений о продаже самая высокая стоимость квадратного метра в Санкт-Петербурге, самая низкая - в Выборге.\n",
    "9. По мере удаления от центра Санкт-Петербурга стоимость квадратного метра снижается (всплески, скорее всего, обусловлены другими параметрами, например, хорошим ремонтом или большой площадью). "
   ]
  },
  {
   "cell_type": "markdown",
   "metadata": {},
   "source": [
    "### 5. Общий вывод\n",
    "\n",
    "Проведено исследование данных объявлений о продаже квартир, чтобы выявить зависимость стоимость квартир от различных факторов. Результаты анализа можно использовать для создания автоматизированной системы оценки объявлений, которая будет ослеживать аномалии и выявлять угрозы мошеннической деятельности. <br>\n",
    "\n",
    "На основе графиков и расчётов корреляции удалось выявить зависимости:\n",
    "1. Самое значительное влияние на цену квартиры оказывает её общая площадь (корреляция составила 60%). \n",
    "2. Соответственно, на рост цены влияет и увеличение параметров  \"количество комнат\", \"жилая площадь\" и \"площадь кухни\" (39%, 45% и 39% соответственно). \n",
    "3. Самые дешевые квартиры располагаются на первых этажах. \n",
    "4. Стоимость квартир на последних этажах выше, чем у квартир на первом этаже, но значительно уступает стоимости квартир на других этажах.\n",
    "5. Объявления о продаже самых дешёвых квартир чаще всего выкладывали в пятницу, самых дорогих - в воскресенье.\n",
    "6. Объявления о продаже самых дешёвых квартир чаще всего выкладывали в июне, самых дорогих - в апреле и ноябре.\n",
    "7. В 2016 году начался спад цен на квартиры, но уже в 2017 году цены снова начали расти, и уже в 2019 году превзошли показатели за предшествующий снижению 2015 год.\n",
    "8. На стоимость квартир так же влияет их удалённость от центра города. В данном случае корреляция отрицательная (-11%), поскольку чем больше расстояние от квартиры до центра города, тем она дешевле.\n",
    "9. Среди десяти городов, в которых больше всего объявлений, самая высокая стоимость квадратного метра в квартирах, расположенныъ в Санкт-Петербурге, наименьшая - в Выьорге.\n",
    "10. По мере удаления от центра Санкт-Петербурга стоимость квадратного метра снижается (всплески, скорее всего, обусловлены другими параметрами, например, хорошим ремонтом или большой площадью). "
   ]
  },
  {
   "cell_type": "markdown",
   "metadata": {},
   "source": []
  },
  {
   "cell_type": "markdown",
   "metadata": {},
   "source": [
    "**Чек-лист готовности проекта**\n",
    "\n",
    "Поставьте 'x' в выполненных пунктах. Далее нажмите Shift+Enter."
   ]
  },
  {
   "cell_type": "markdown",
   "metadata": {},
   "source": [
    "- [x]  открыт файл\n",
    "- [x]  файлы изучены (выведены первые строки, метод `info()`, гистограммы и т.д.)\n",
    "- [x]  определены пропущенные значения\n",
    "- [x]  заполнены пропущенные значения там, где это возможно\n",
    "- [x]  есть пояснение, какие пропущенные значения обнаружены\n",
    "- [x]  изменены типы данных\n",
    "- [x]  есть пояснение, в каких столбцах изменены типы и почему\n",
    "- [x]  устранены неявные дубликаты в названиях населённых пунктов\n",
    "- [x]  устранены редкие и выбивающиеся значения (аномалии) во всех столбцах\n",
    "- [x]  посчитано и добавлено в таблицу: цена одного квадратного метра\n",
    "- [x]  посчитано и добавлено в таблицу: день публикации объявления (0 - понедельник, 1 - вторник и т.д.)\n",
    "- [x]  посчитано и добавлено в таблицу: месяц публикации объявления\n",
    "- [x]  посчитано и добавлено в таблицу: год публикации объявления\n",
    "- [x]  посчитано и добавлено в таблицу: тип этажа квартиры (значения — «первый», «последний», «другой»)\n",
    "- [x]  посчитано и добавлено в таблицу: расстояние в км до центра города\n",
    "- [x]  изучены и описаны следующие параметры:\n",
    "        - общая площадь;\n",
    "        - жилая площадь;\n",
    "        - площадь кухни;\n",
    "        - цена объекта;\n",
    "        - количество комнат;\n",
    "        - высота потолков;\n",
    "        - этаж квартиры;\n",
    "        - тип этажа квартиры («первый», «последний», «другой»);\n",
    "        - общее количество этажей в доме;\n",
    "        - расстояние до центра города в метрах;\n",
    "        - расстояние до ближайшего аэропорта;\n",
    "        - расстояние до ближайшего парка;\n",
    "        - день и месяц публикации объявления\n",
    "- [x]  построены гистограммы для каждого параметра\n",
    "- [x]  выполнено задание: \"Изучите, как быстро продавались квартиры (столбец days_exposition). Этот параметр показывает, сколько дней «висело» каждое объявление.\n",
    "    - Постройте гистограмму.\n",
    "    - Посчитайте среднее и медиану.\n",
    "    - В ячейке типа markdown опишите, сколько обычно занимает продажа. Какие продажи можно считать быстрыми, а какие — необычно долгими?\"\n",
    "- [x]  выполнено задание: \"Какие факторы больше всего влияют на общую (полную) стоимость объекта? Постройте графики, которые покажут зависимость цены от указанных ниже параметров. Для подготовки данных перед визуализацией вы можете использовать сводные таблицы.\"\n",
    "        - общей площади;\n",
    "        - жилой площади;\n",
    "        - площади кухни;\n",
    "        - количество комнат;\n",
    "        - типа этажа, на котором расположена квартира (первый, последний, другой);\n",
    "        - даты размещения (день недели, месяц, год);\n",
    "- [x]  выполнено задание: \"Посчитайте среднюю цену одного квадратного метра в 10 населённых пунктах с наибольшим числом объявлений. Выделите населённые пункты с самой высокой и низкой стоимостью квадратного метра. Эти данные можно найти по имени в столбце `locality_name`.\"\n",
    "- [x]  выполнено задание: \"Ранее вы посчитали расстояние до центра в километрах. Теперь выделите квартиры в Санкт-Петербурге с помощью столбца `locality_name` и вычислите среднюю цену каждого километра. Опишите, как стоимость объектов зависит от расстояния до центра города.\"\n",
    "- [x]  в каждом этапе есть промежуточные выводы\n",
    "- [x]  есть общий вывод"
   ]
  }
 ],
 "metadata": {
  "ExecuteTimeLog": [
   {
    "duration": 56,
    "start_time": "2022-10-25T19:48:57.840Z"
   },
   {
    "duration": 56,
    "start_time": "2022-10-25T19:49:15.383Z"
   },
   {
    "duration": 60,
    "start_time": "2022-10-25T19:49:39.391Z"
   },
   {
    "duration": 485,
    "start_time": "2022-10-25T19:49:45.064Z"
   },
   {
    "duration": 12,
    "start_time": "2022-10-25T19:50:07.956Z"
   },
   {
    "duration": 49,
    "start_time": "2022-10-25T19:50:49.740Z"
   },
   {
    "duration": 327,
    "start_time": "2022-10-25T19:51:06.539Z"
   },
   {
    "duration": 95,
    "start_time": "2022-10-25T19:51:11.005Z"
   },
   {
    "duration": 96,
    "start_time": "2022-10-25T19:51:21.190Z"
   },
   {
    "duration": 99,
    "start_time": "2022-10-25T19:51:27.501Z"
   },
   {
    "duration": 15,
    "start_time": "2022-10-25T19:51:30.945Z"
   },
   {
    "duration": 9,
    "start_time": "2022-10-25T19:51:48.377Z"
   },
   {
    "duration": 8,
    "start_time": "2022-10-25T19:52:10.187Z"
   },
   {
    "duration": 84,
    "start_time": "2022-10-25T19:52:42.038Z"
   },
   {
    "duration": 14,
    "start_time": "2022-10-25T19:53:57.843Z"
   },
   {
    "duration": 350,
    "start_time": "2022-10-25T19:54:46.710Z"
   },
   {
    "duration": 8,
    "start_time": "2022-10-25T19:56:34.952Z"
   },
   {
    "duration": 12,
    "start_time": "2022-10-25T19:56:51.372Z"
   },
   {
    "duration": 13,
    "start_time": "2022-10-25T19:57:14.735Z"
   },
   {
    "duration": 652,
    "start_time": "2022-10-25T19:57:37.335Z"
   },
   {
    "duration": 3,
    "start_time": "2022-10-25T19:57:47.451Z"
   },
   {
    "duration": 88,
    "start_time": "2022-10-25T19:59:32.810Z"
   },
   {
    "duration": 87,
    "start_time": "2022-10-25T19:59:57.594Z"
   },
   {
    "duration": 14,
    "start_time": "2022-10-25T19:59:59.550Z"
   },
   {
    "duration": 9,
    "start_time": "2022-10-25T20:00:02.398Z"
   },
   {
    "duration": 85,
    "start_time": "2022-10-25T20:00:35.185Z"
   },
   {
    "duration": 14,
    "start_time": "2022-10-25T20:00:38.194Z"
   },
   {
    "duration": 8,
    "start_time": "2022-10-25T20:00:42.717Z"
   },
   {
    "duration": 104,
    "start_time": "2022-10-25T20:00:51.464Z"
   },
   {
    "duration": 13,
    "start_time": "2022-10-25T20:00:55.630Z"
   },
   {
    "duration": 7,
    "start_time": "2022-10-25T20:00:58.579Z"
   },
   {
    "duration": 85,
    "start_time": "2022-10-25T20:01:26.055Z"
   },
   {
    "duration": 16,
    "start_time": "2022-10-25T20:01:27.845Z"
   },
   {
    "duration": 7,
    "start_time": "2022-10-25T20:01:30.786Z"
   },
   {
    "duration": 51,
    "start_time": "2022-10-25T20:01:55.928Z"
   },
   {
    "duration": 112,
    "start_time": "2022-10-25T20:02:24.770Z"
   },
   {
    "duration": 40,
    "start_time": "2022-10-25T20:02:26.928Z"
   },
   {
    "duration": 30,
    "start_time": "2022-10-25T20:02:31.597Z"
   },
   {
    "duration": 596,
    "start_time": "2022-10-25T20:03:35.471Z"
   },
   {
    "duration": 182,
    "start_time": "2022-10-27T09:44:17.350Z"
   },
   {
    "duration": 0,
    "start_time": "2022-10-27T09:44:17.537Z"
   },
   {
    "duration": 0,
    "start_time": "2022-10-27T09:44:17.538Z"
   },
   {
    "duration": 0,
    "start_time": "2022-10-27T09:44:17.539Z"
   },
   {
    "duration": 0,
    "start_time": "2022-10-27T09:44:17.540Z"
   },
   {
    "duration": 0,
    "start_time": "2022-10-27T09:44:17.542Z"
   },
   {
    "duration": 0,
    "start_time": "2022-10-27T09:44:17.543Z"
   },
   {
    "duration": 0,
    "start_time": "2022-10-27T09:44:17.544Z"
   },
   {
    "duration": 0,
    "start_time": "2022-10-27T09:44:17.546Z"
   },
   {
    "duration": 0,
    "start_time": "2022-10-27T09:44:17.547Z"
   },
   {
    "duration": 0,
    "start_time": "2022-10-27T09:44:17.549Z"
   },
   {
    "duration": 0,
    "start_time": "2022-10-27T09:44:17.550Z"
   },
   {
    "duration": 0,
    "start_time": "2022-10-27T09:44:17.551Z"
   },
   {
    "duration": 0,
    "start_time": "2022-10-27T09:44:17.553Z"
   },
   {
    "duration": 0,
    "start_time": "2022-10-27T09:44:17.554Z"
   },
   {
    "duration": 0,
    "start_time": "2022-10-27T09:44:17.587Z"
   },
   {
    "duration": 0,
    "start_time": "2022-10-27T09:44:17.587Z"
   },
   {
    "duration": 0,
    "start_time": "2022-10-27T09:44:17.588Z"
   },
   {
    "duration": 0,
    "start_time": "2022-10-27T09:44:17.588Z"
   },
   {
    "duration": 0,
    "start_time": "2022-10-27T09:44:17.589Z"
   },
   {
    "duration": 0,
    "start_time": "2022-10-27T09:44:17.589Z"
   },
   {
    "duration": 0,
    "start_time": "2022-10-27T09:44:17.590Z"
   },
   {
    "duration": 0,
    "start_time": "2022-10-27T09:44:17.591Z"
   },
   {
    "duration": 0,
    "start_time": "2022-10-27T09:44:17.591Z"
   },
   {
    "duration": 0,
    "start_time": "2022-10-27T09:44:17.592Z"
   },
   {
    "duration": 0,
    "start_time": "2022-10-27T09:44:17.593Z"
   },
   {
    "duration": 0,
    "start_time": "2022-10-27T09:44:17.593Z"
   },
   {
    "duration": 0,
    "start_time": "2022-10-27T09:44:17.594Z"
   },
   {
    "duration": 0,
    "start_time": "2022-10-27T09:44:17.596Z"
   },
   {
    "duration": 0,
    "start_time": "2022-10-27T09:44:17.597Z"
   },
   {
    "duration": 0,
    "start_time": "2022-10-27T09:44:17.597Z"
   },
   {
    "duration": 0,
    "start_time": "2022-10-27T09:44:17.600Z"
   },
   {
    "duration": 0,
    "start_time": "2022-10-27T09:44:17.601Z"
   },
   {
    "duration": 0,
    "start_time": "2022-10-27T09:44:17.601Z"
   },
   {
    "duration": 0,
    "start_time": "2022-10-27T09:44:17.602Z"
   },
   {
    "duration": 0,
    "start_time": "2022-10-27T09:44:17.602Z"
   },
   {
    "duration": 0,
    "start_time": "2022-10-27T09:44:17.603Z"
   },
   {
    "duration": 1,
    "start_time": "2022-10-27T09:44:17.603Z"
   },
   {
    "duration": 0,
    "start_time": "2022-10-27T09:44:17.604Z"
   },
   {
    "duration": 0,
    "start_time": "2022-10-27T09:44:17.605Z"
   },
   {
    "duration": 0,
    "start_time": "2022-10-27T09:44:17.607Z"
   },
   {
    "duration": 0,
    "start_time": "2022-10-27T09:44:17.610Z"
   },
   {
    "duration": 0,
    "start_time": "2022-10-27T09:44:17.611Z"
   },
   {
    "duration": 0,
    "start_time": "2022-10-27T09:44:17.611Z"
   },
   {
    "duration": 0,
    "start_time": "2022-10-27T09:44:17.612Z"
   },
   {
    "duration": 0,
    "start_time": "2022-10-27T09:44:17.612Z"
   },
   {
    "duration": 0,
    "start_time": "2022-10-27T09:44:17.613Z"
   },
   {
    "duration": 0,
    "start_time": "2022-10-27T09:44:17.613Z"
   },
   {
    "duration": 0,
    "start_time": "2022-10-27T09:44:17.614Z"
   },
   {
    "duration": 0,
    "start_time": "2022-10-27T09:44:17.615Z"
   },
   {
    "duration": 0,
    "start_time": "2022-10-27T09:44:17.615Z"
   },
   {
    "duration": 0,
    "start_time": "2022-10-27T09:44:17.616Z"
   },
   {
    "duration": 0,
    "start_time": "2022-10-27T09:44:17.619Z"
   },
   {
    "duration": 0,
    "start_time": "2022-10-27T09:44:17.620Z"
   },
   {
    "duration": 0,
    "start_time": "2022-10-27T09:44:17.622Z"
   },
   {
    "duration": 0,
    "start_time": "2022-10-27T09:44:17.623Z"
   },
   {
    "duration": 0,
    "start_time": "2022-10-27T09:44:17.624Z"
   },
   {
    "duration": 0,
    "start_time": "2022-10-27T09:44:17.624Z"
   },
   {
    "duration": 0,
    "start_time": "2022-10-27T09:44:17.625Z"
   },
   {
    "duration": 0,
    "start_time": "2022-10-27T09:44:17.625Z"
   },
   {
    "duration": 0,
    "start_time": "2022-10-27T09:44:17.626Z"
   },
   {
    "duration": 0,
    "start_time": "2022-10-27T09:44:17.631Z"
   },
   {
    "duration": 0,
    "start_time": "2022-10-27T09:44:17.632Z"
   },
   {
    "duration": 0,
    "start_time": "2022-10-27T09:44:17.633Z"
   },
   {
    "duration": 0,
    "start_time": "2022-10-27T09:44:17.635Z"
   },
   {
    "duration": 0,
    "start_time": "2022-10-27T09:44:17.636Z"
   },
   {
    "duration": 1,
    "start_time": "2022-10-27T09:44:17.638Z"
   },
   {
    "duration": 0,
    "start_time": "2022-10-27T09:44:17.639Z"
   },
   {
    "duration": 0,
    "start_time": "2022-10-27T09:44:17.682Z"
   },
   {
    "duration": 0,
    "start_time": "2022-10-27T09:44:17.685Z"
   },
   {
    "duration": 0,
    "start_time": "2022-10-27T09:44:17.686Z"
   },
   {
    "duration": 0,
    "start_time": "2022-10-27T09:44:17.687Z"
   },
   {
    "duration": 0,
    "start_time": "2022-10-27T09:44:17.688Z"
   },
   {
    "duration": 0,
    "start_time": "2022-10-27T09:44:17.690Z"
   },
   {
    "duration": 0,
    "start_time": "2022-10-27T09:44:17.692Z"
   },
   {
    "duration": 0,
    "start_time": "2022-10-27T09:44:17.694Z"
   },
   {
    "duration": 0,
    "start_time": "2022-10-27T09:44:17.694Z"
   },
   {
    "duration": 0,
    "start_time": "2022-10-27T09:44:17.695Z"
   }
  ],
  "kernelspec": {
   "display_name": "Python 3 (ipykernel)",
   "language": "python",
   "name": "python3"
  },
  "language_info": {
   "codemirror_mode": {
    "name": "ipython",
    "version": 3
   },
   "file_extension": ".py",
   "mimetype": "text/x-python",
   "name": "python",
   "nbconvert_exporter": "python",
   "pygments_lexer": "ipython3",
   "version": "3.9.7"
  },
  "toc": {
   "base_numbering": 1,
   "nav_menu": {},
   "number_sections": true,
   "sideBar": true,
   "skip_h1_title": true,
   "title_cell": "Table of Contents",
   "title_sidebar": "Contents",
   "toc_cell": false,
   "toc_position": {},
   "toc_section_display": true,
   "toc_window_display": false
  }
 },
 "nbformat": 4,
 "nbformat_minor": 2
}
